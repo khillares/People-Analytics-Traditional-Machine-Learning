{
 "cells": [
  {
   "cell_type": "code",
   "execution_count": 1,
   "metadata": {},
   "outputs": [],
   "source": [
    "#Code written by Sudesh V Khillare\n",
    "#Libraries required are Pandas, Sklearn, Imblearn, Matplotlib, Seaborn, Numpy"
   ]
  },
  {
   "cell_type": "code",
   "execution_count": 63,
   "metadata": {},
   "outputs": [
    {
     "name": "stderr",
     "output_type": "stream",
     "text": [
      "D:\\Python\\lib\\site-packages\\IPython\\core\\interactiveshell.py:3049: DtypeWarning: Columns (69,70,71,72) have mixed types. Specify dtype option on import or set low_memory=False.\n",
      "  interactivity=interactivity, compiler=compiler, result=result)\n"
     ]
    }
   ],
   "source": [
    "#Loading dataset\n",
    "import pandas as pd\n",
    "dataset=pd.read_csv('pokemon_trainer_application_data.csv')"
   ]
  },
  {
   "cell_type": "code",
   "execution_count": 64,
   "metadata": {},
   "outputs": [
    {
     "name": "stdout",
     "output_type": "stream",
     "text": [
      "Dimensions of dataset are: (100000, 85)\n"
     ]
    },
    {
     "data": {
      "text/html": [
       "<div>\n",
       "<style scoped>\n",
       "    .dataframe tbody tr th:only-of-type {\n",
       "        vertical-align: middle;\n",
       "    }\n",
       "\n",
       "    .dataframe tbody tr th {\n",
       "        vertical-align: top;\n",
       "    }\n",
       "\n",
       "    .dataframe thead th {\n",
       "        text-align: right;\n",
       "    }\n",
       "</style>\n",
       "<table border=\"1\" class=\"dataframe\">\n",
       "  <thead>\n",
       "    <tr style=\"text-align: right;\">\n",
       "      <th></th>\n",
       "      <th>ApplicationStatus</th>\n",
       "      <th>ApplicationType</th>\n",
       "      <th>ApplyDate</th>\n",
       "      <th>CurrentlyEmployed</th>\n",
       "      <th>CurrentlyTrainingPokemon</th>\n",
       "      <th>CurrentlyWorkInThisRegion</th>\n",
       "      <th>GraduateSchoolGPA</th>\n",
       "      <th>GraduateSchoolGraduate</th>\n",
       "      <th>GymBadge1Pokemon</th>\n",
       "      <th>GymBadge2Pokemon</th>\n",
       "      <th>...</th>\n",
       "      <th>ReferenceRelationship3</th>\n",
       "      <th>SpokenWithCurrentBoss</th>\n",
       "      <th>TechnicalSchoolGPA</th>\n",
       "      <th>TechnicalSchoolGraduate</th>\n",
       "      <th>TotalYearsOfExp</th>\n",
       "      <th>UndergradSchoolGPA</th>\n",
       "      <th>UndergradSchoolGraduate</th>\n",
       "      <th>WorkedInThisRegion</th>\n",
       "      <th>WorkingForJobAppliedFor</th>\n",
       "      <th>hired</th>\n",
       "    </tr>\n",
       "  </thead>\n",
       "  <tbody>\n",
       "    <tr>\n",
       "      <th>0</th>\n",
       "      <td>Filed Not Hired</td>\n",
       "      <td>Applicant</td>\n",
       "      <td>11/26/2013</td>\n",
       "      <td>False</td>\n",
       "      <td>NaN</td>\n",
       "      <td>False</td>\n",
       "      <td>NaN</td>\n",
       "      <td>NaN</td>\n",
       "      <td>NaN</td>\n",
       "      <td>NaN</td>\n",
       "      <td>...</td>\n",
       "      <td>NaN</td>\n",
       "      <td>NaN</td>\n",
       "      <td>NaN</td>\n",
       "      <td>NaN</td>\n",
       "      <td>3.0</td>\n",
       "      <td>NaN</td>\n",
       "      <td>NaN</td>\n",
       "      <td>False</td>\n",
       "      <td>NaN</td>\n",
       "      <td>0.0</td>\n",
       "    </tr>\n",
       "    <tr>\n",
       "      <th>1</th>\n",
       "      <td>Filed Not Hired</td>\n",
       "      <td>Applicant</td>\n",
       "      <td>11/27/2013</td>\n",
       "      <td>True</td>\n",
       "      <td>NaN</td>\n",
       "      <td>False</td>\n",
       "      <td>NaN</td>\n",
       "      <td>NaN</td>\n",
       "      <td>NaN</td>\n",
       "      <td>NaN</td>\n",
       "      <td>...</td>\n",
       "      <td>Fellow Trainer</td>\n",
       "      <td>NaN</td>\n",
       "      <td>NaN</td>\n",
       "      <td>NaN</td>\n",
       "      <td>5.0</td>\n",
       "      <td>NaN</td>\n",
       "      <td>No</td>\n",
       "      <td>False</td>\n",
       "      <td>NaN</td>\n",
       "      <td>0.0</td>\n",
       "    </tr>\n",
       "    <tr>\n",
       "      <th>2</th>\n",
       "      <td>Filed Not Hired</td>\n",
       "      <td>Applicant</td>\n",
       "      <td>11/22/2013</td>\n",
       "      <td>NaN</td>\n",
       "      <td>NaN</td>\n",
       "      <td>False</td>\n",
       "      <td>NaN</td>\n",
       "      <td>NaN</td>\n",
       "      <td>NaN</td>\n",
       "      <td>NaN</td>\n",
       "      <td>...</td>\n",
       "      <td>Fellow Trainer</td>\n",
       "      <td>NaN</td>\n",
       "      <td>NaN</td>\n",
       "      <td>NaN</td>\n",
       "      <td>5.0</td>\n",
       "      <td>3.0</td>\n",
       "      <td>Yes</td>\n",
       "      <td>False</td>\n",
       "      <td>NaN</td>\n",
       "      <td>0.0</td>\n",
       "    </tr>\n",
       "    <tr>\n",
       "      <th>3</th>\n",
       "      <td>Filed Not Hired</td>\n",
       "      <td>Applicant</td>\n",
       "      <td>11/23/2013</td>\n",
       "      <td>True</td>\n",
       "      <td>NaN</td>\n",
       "      <td>False</td>\n",
       "      <td>NaN</td>\n",
       "      <td>NaN</td>\n",
       "      <td>Seedot</td>\n",
       "      <td>NaN</td>\n",
       "      <td>...</td>\n",
       "      <td>Boss</td>\n",
       "      <td>NaN</td>\n",
       "      <td>NaN</td>\n",
       "      <td>Yes</td>\n",
       "      <td>1.0</td>\n",
       "      <td>2.4</td>\n",
       "      <td>No</td>\n",
       "      <td>False</td>\n",
       "      <td>NaN</td>\n",
       "      <td>0.0</td>\n",
       "    </tr>\n",
       "    <tr>\n",
       "      <th>4</th>\n",
       "      <td>New</td>\n",
       "      <td>Applicant</td>\n",
       "      <td>11/23/2013</td>\n",
       "      <td>True</td>\n",
       "      <td>NaN</td>\n",
       "      <td>False</td>\n",
       "      <td>NaN</td>\n",
       "      <td>NaN</td>\n",
       "      <td>NaN</td>\n",
       "      <td>NaN</td>\n",
       "      <td>...</td>\n",
       "      <td>Professor</td>\n",
       "      <td>NaN</td>\n",
       "      <td>NaN</td>\n",
       "      <td>NaN</td>\n",
       "      <td>3.0</td>\n",
       "      <td>3.0</td>\n",
       "      <td>No</td>\n",
       "      <td>False</td>\n",
       "      <td>NaN</td>\n",
       "      <td>NaN</td>\n",
       "    </tr>\n",
       "  </tbody>\n",
       "</table>\n",
       "<p>5 rows × 85 columns</p>\n",
       "</div>"
      ],
      "text/plain": [
       "  ApplicationStatus ApplicationType   ApplyDate CurrentlyEmployed  \\\n",
       "0   Filed Not Hired       Applicant  11/26/2013             False   \n",
       "1   Filed Not Hired       Applicant  11/27/2013              True   \n",
       "2   Filed Not Hired       Applicant  11/22/2013               NaN   \n",
       "3   Filed Not Hired       Applicant  11/23/2013              True   \n",
       "4               New       Applicant  11/23/2013              True   \n",
       "\n",
       "  CurrentlyTrainingPokemon CurrentlyWorkInThisRegion  GraduateSchoolGPA  \\\n",
       "0                      NaN                     False                NaN   \n",
       "1                      NaN                     False                NaN   \n",
       "2                      NaN                     False                NaN   \n",
       "3                      NaN                     False                NaN   \n",
       "4                      NaN                     False                NaN   \n",
       "\n",
       "  GraduateSchoolGraduate GymBadge1Pokemon GymBadge2Pokemon  ...  \\\n",
       "0                    NaN              NaN              NaN  ...   \n",
       "1                    NaN              NaN              NaN  ...   \n",
       "2                    NaN              NaN              NaN  ...   \n",
       "3                    NaN           Seedot              NaN  ...   \n",
       "4                    NaN              NaN              NaN  ...   \n",
       "\n",
       "  ReferenceRelationship3 SpokenWithCurrentBoss TechnicalSchoolGPA  \\\n",
       "0                    NaN                   NaN                NaN   \n",
       "1         Fellow Trainer                   NaN                NaN   \n",
       "2         Fellow Trainer                   NaN                NaN   \n",
       "3                   Boss                   NaN                NaN   \n",
       "4              Professor                   NaN                NaN   \n",
       "\n",
       "  TechnicalSchoolGraduate TotalYearsOfExp UndergradSchoolGPA  \\\n",
       "0                     NaN             3.0                NaN   \n",
       "1                     NaN             5.0                NaN   \n",
       "2                     NaN             5.0                3.0   \n",
       "3                     Yes             1.0                2.4   \n",
       "4                     NaN             3.0                3.0   \n",
       "\n",
       "  UndergradSchoolGraduate WorkedInThisRegion WorkingForJobAppliedFor hired  \n",
       "0                     NaN              False                     NaN   0.0  \n",
       "1                      No              False                     NaN   0.0  \n",
       "2                     Yes              False                     NaN   0.0  \n",
       "3                      No              False                     NaN   0.0  \n",
       "4                      No              False                     NaN   NaN  \n",
       "\n",
       "[5 rows x 85 columns]"
      ]
     },
     "execution_count": 64,
     "metadata": {},
     "output_type": "execute_result"
    }
   ],
   "source": [
    "#Confirming Dataset Dimensions\n",
    "print('Dimensions of dataset are:',dataset.shape)\n",
    "dataset.head()"
   ]
  },
  {
   "cell_type": "markdown",
   "metadata": {},
   "source": [
    "Train​ ​a​ ​model​ ​that​ ​predicts​ ​whether​ ​candidates​ ​will​ ​get​ ​hired​ ​or​ ​not."
   ]
  },
  {
   "cell_type": "markdown",
   "metadata": {},
   "source": [
    "## Data Preprocessing "
   ]
  },
  {
   "cell_type": "code",
   "execution_count": 65,
   "metadata": {},
   "outputs": [
    {
     "name": "stdout",
     "output_type": "stream",
     "text": [
      "<class 'pandas.core.frame.DataFrame'>\n",
      "RangeIndex: 100000 entries, 0 to 99999\n",
      "Data columns (total 85 columns):\n",
      "ApplicationStatus                                99996 non-null object\n",
      "ApplicationType                                  100000 non-null object\n",
      "ApplyDate                                        100000 non-null object\n",
      "CurrentlyEmployed                                82596 non-null object\n",
      "CurrentlyTrainingPokemon                         3911 non-null object\n",
      "CurrentlyWorkInThisRegion                        92482 non-null object\n",
      "GraduateSchoolGPA                                3889 non-null float64\n",
      "GraduateSchoolGraduate                           9789 non-null object\n",
      "GymBadge1Pokemon                                 34973 non-null object\n",
      "GymBadge2Pokemon                                 16411 non-null object\n",
      "GymBadge3Pokemon                                 5901 non-null object\n",
      "GymBadge4Pokemon                                 1812 non-null object\n",
      "GymBadgePerm1                                    93473 non-null object\n",
      "GymBadgePerm2                                    93473 non-null object\n",
      "GymBadgePerm3                                    93473 non-null object\n",
      "GymBadgePerm4                                    93473 non-null object\n",
      "GymBadgeTemp1                                    93473 non-null object\n",
      "GymBadgeTemp2                                    93473 non-null object\n",
      "GymBadgeTemp3                                    93473 non-null object\n",
      "GymBadgeTemp4                                    93473 non-null object\n",
      "GymCertificationEverSuspended                    52647 non-null object\n",
      "GymCertified                                     47047 non-null object\n",
      "HighEduLevelCompleted                            98812 non-null object\n",
      "HighSchoolGPA                                    27206 non-null float64\n",
      "HighSchoolGraduate                               92133 non-null object\n",
      "HiredSalaryOffer                                 1279 non-null object\n",
      "InternalEmployee                                 100000 non-null bool\n",
      "JobPostingDate                                   98500 non-null object\n",
      "JobSchedule                                      99502 non-null object\n",
      "JobShiftDay                                      99618 non-null object\n",
      "JobShiftEvening                                  99618 non-null object\n",
      "JobShiftNight                                    99618 non-null object\n",
      "JobShiftRotating                                 99618 non-null object\n",
      "JobShiftWeekend                                  99618 non-null object\n",
      "JobStatusFlexTime                                99618 non-null object\n",
      "JobStatusFullTime                                99618 non-null object\n",
      "JobStatusPartTime                                99618 non-null object\n",
      "JobStatusPerDiem                                 99618 non-null object\n",
      "JobStatusTemp                                    99618 non-null object\n",
      "LastPerformaceRating                             6145 non-null object\n",
      "OtherSchoolGPA                                   3781 non-null float64\n",
      "OtherSchoolGraduate                              14144 non-null object\n",
      "PokemonTrainerClass                              99996 non-null object\n",
      "PokemonWorldRegion                               99996 non-null object\n",
      "PositionForTrainingPokemon                       75196 non-null object\n",
      "RecentTrainingExperience1ContactForRef           93470 non-null object\n",
      "RecentTrainingExperience1EmploymentStatus        89376 non-null object\n",
      "RecentTrainingExperience1From                    94840 non-null object\n",
      "RecentTrainingExperience1PayRateEnd              70681 non-null object\n",
      "RecentTrainingExperience1Pokemon                 52946 non-null object\n",
      "RecentTrainingExperience1To                      86340 non-null object\n",
      "RecentTrainingExperience2ContactForRef           72465 non-null object\n",
      "RecentTrainingExperience2EmploymentStatus        73065 non-null object\n",
      "RecentTrainingExperience2From                    74679 non-null object\n",
      "RecentTrainingExperience2PayRateEnd              60717 non-null object\n",
      "RecentTrainingExperience2Pokemon                 41907 non-null object\n",
      "RecentTrainingExperience2To                      73448 non-null object\n",
      "RecentTrainingExperience3ContactForRef           53395 non-null object\n",
      "RecentTrainingExperience3EmploymentStatus        54319 non-null object\n",
      "RecentTrainingExperience3From                    55867 non-null object\n",
      "RecentTrainingExperience3PayRateEnd              44838 non-null object\n",
      "RecentTrainingExperience3Pokemon                 31249 non-null object\n",
      "RecentTrainingExperience3To                      55238 non-null object\n",
      "RecentTrainingExperience4ContactForRef           31869 non-null object\n",
      "RecentTrainingExperience4EmploymentStatus        32917 non-null object\n",
      "RecentTrainingExperience4From                    30739 non-null object\n",
      "RecentTrainingExperience4PayRateEnd              25968 non-null object\n",
      "RecentTrainingExperience4Pokemon                 16965 non-null object\n",
      "RecentTrainingExperience4To                      30377 non-null object\n",
      "RecentTrainingExperienceContactForRefNA          39834 non-null object\n",
      "RecentTrainingExperienceContactForRefNo          39834 non-null object\n",
      "RecentTrainingExperienceContactForRefPostHire    39834 non-null object\n",
      "RecentTrainingExperienceContactForRefYes         39834 non-null object\n",
      "ReferenceRelationship1                           66470 non-null object\n",
      "ReferenceRelationship2                           64036 non-null object\n",
      "ReferenceRelationship3                           60356 non-null object\n",
      "SpokenWithCurrentBoss                            6145 non-null object\n",
      "TechnicalSchoolGPA                               10241 non-null float64\n",
      "TechnicalSchoolGraduate                          33476 non-null object\n",
      "TotalYearsOfExp                                  96914 non-null float64\n",
      "UndergradSchoolGPA                               24361 non-null float64\n",
      "UndergradSchoolGraduate                          50720 non-null object\n",
      "WorkedInThisRegion                               90622 non-null object\n",
      "WorkingForJobAppliedFor                          6145 non-null object\n",
      "hired                                            96321 non-null float64\n",
      "dtypes: bool(1), float64(7), object(77)\n",
      "memory usage: 64.2+ MB\n"
     ]
    }
   ],
   "source": [
    "#Checking all variables type.\n",
    "dataset.info()"
   ]
  },
  {
   "cell_type": "code",
   "execution_count": 13,
   "metadata": {},
   "outputs": [
    {
     "data": {
      "text/html": [
       "<div>\n",
       "<style scoped>\n",
       "    .dataframe tbody tr th:only-of-type {\n",
       "        vertical-align: middle;\n",
       "    }\n",
       "\n",
       "    .dataframe tbody tr th {\n",
       "        vertical-align: top;\n",
       "    }\n",
       "\n",
       "    .dataframe thead th {\n",
       "        text-align: right;\n",
       "    }\n",
       "</style>\n",
       "<table border=\"1\" class=\"dataframe\">\n",
       "  <thead>\n",
       "    <tr style=\"text-align: right;\">\n",
       "      <th></th>\n",
       "      <th>GraduateSchoolGPA</th>\n",
       "      <th>HighSchoolGPA</th>\n",
       "      <th>OtherSchoolGPA</th>\n",
       "      <th>TechnicalSchoolGPA</th>\n",
       "      <th>TotalYearsOfExp</th>\n",
       "      <th>UndergradSchoolGPA</th>\n",
       "      <th>hired</th>\n",
       "    </tr>\n",
       "  </thead>\n",
       "  <tbody>\n",
       "    <tr>\n",
       "      <th>count</th>\n",
       "      <td>3889.000000</td>\n",
       "      <td>27206.000000</td>\n",
       "      <td>3781.000000</td>\n",
       "      <td>10241.000000</td>\n",
       "      <td>96914.000000</td>\n",
       "      <td>24361.000000</td>\n",
       "      <td>96321.000000</td>\n",
       "    </tr>\n",
       "    <tr>\n",
       "      <th>mean</th>\n",
       "      <td>3.478934</td>\n",
       "      <td>3.203623</td>\n",
       "      <td>3.463853</td>\n",
       "      <td>3.477138</td>\n",
       "      <td>4.154095</td>\n",
       "      <td>3.213768</td>\n",
       "      <td>0.017213</td>\n",
       "    </tr>\n",
       "    <tr>\n",
       "      <th>std</th>\n",
       "      <td>0.476177</td>\n",
       "      <td>0.516601</td>\n",
       "      <td>0.482387</td>\n",
       "      <td>0.478480</td>\n",
       "      <td>3.469671</td>\n",
       "      <td>0.451540</td>\n",
       "      <td>0.130066</td>\n",
       "    </tr>\n",
       "    <tr>\n",
       "      <th>min</th>\n",
       "      <td>0.000000</td>\n",
       "      <td>0.000000</td>\n",
       "      <td>0.000000</td>\n",
       "      <td>0.000000</td>\n",
       "      <td>1.000000</td>\n",
       "      <td>0.000000</td>\n",
       "      <td>0.000000</td>\n",
       "    </tr>\n",
       "    <tr>\n",
       "      <th>25%</th>\n",
       "      <td>3.200000</td>\n",
       "      <td>3.000000</td>\n",
       "      <td>3.070000</td>\n",
       "      <td>3.000000</td>\n",
       "      <td>1.000000</td>\n",
       "      <td>3.000000</td>\n",
       "      <td>0.000000</td>\n",
       "    </tr>\n",
       "    <tr>\n",
       "      <th>50%</th>\n",
       "      <td>3.550000</td>\n",
       "      <td>3.200000</td>\n",
       "      <td>3.500000</td>\n",
       "      <td>3.500000</td>\n",
       "      <td>3.000000</td>\n",
       "      <td>3.200000</td>\n",
       "      <td>0.000000</td>\n",
       "    </tr>\n",
       "    <tr>\n",
       "      <th>75%</th>\n",
       "      <td>3.800000</td>\n",
       "      <td>3.570000</td>\n",
       "      <td>3.890000</td>\n",
       "      <td>3.900000</td>\n",
       "      <td>9.000000</td>\n",
       "      <td>3.500000</td>\n",
       "      <td>0.000000</td>\n",
       "    </tr>\n",
       "    <tr>\n",
       "      <th>max</th>\n",
       "      <td>4.300000</td>\n",
       "      <td>4.300000</td>\n",
       "      <td>4.200000</td>\n",
       "      <td>4.300000</td>\n",
       "      <td>10.000000</td>\n",
       "      <td>4.300000</td>\n",
       "      <td>1.000000</td>\n",
       "    </tr>\n",
       "  </tbody>\n",
       "</table>\n",
       "</div>"
      ],
      "text/plain": [
       "       GraduateSchoolGPA  HighSchoolGPA  OtherSchoolGPA  TechnicalSchoolGPA  \\\n",
       "count        3889.000000   27206.000000     3781.000000        10241.000000   \n",
       "mean            3.478934       3.203623        3.463853            3.477138   \n",
       "std             0.476177       0.516601        0.482387            0.478480   \n",
       "min             0.000000       0.000000        0.000000            0.000000   \n",
       "25%             3.200000       3.000000        3.070000            3.000000   \n",
       "50%             3.550000       3.200000        3.500000            3.500000   \n",
       "75%             3.800000       3.570000        3.890000            3.900000   \n",
       "max             4.300000       4.300000        4.200000            4.300000   \n",
       "\n",
       "       TotalYearsOfExp  UndergradSchoolGPA         hired  \n",
       "count     96914.000000        24361.000000  96321.000000  \n",
       "mean          4.154095            3.213768      0.017213  \n",
       "std           3.469671            0.451540      0.130066  \n",
       "min           1.000000            0.000000      0.000000  \n",
       "25%           1.000000            3.000000      0.000000  \n",
       "50%           3.000000            3.200000      0.000000  \n",
       "75%           9.000000            3.500000      0.000000  \n",
       "max          10.000000            4.300000      1.000000  "
      ]
     },
     "execution_count": 13,
     "metadata": {},
     "output_type": "execute_result"
    }
   ],
   "source": [
    "#Statistical Features of Numerical Variabls\n",
    "dataset.describe()"
   ]
  },
  {
   "cell_type": "code",
   "execution_count": 14,
   "metadata": {},
   "outputs": [
    {
     "data": {
      "text/html": [
       "<div>\n",
       "<style scoped>\n",
       "    .dataframe tbody tr th:only-of-type {\n",
       "        vertical-align: middle;\n",
       "    }\n",
       "\n",
       "    .dataframe tbody tr th {\n",
       "        vertical-align: top;\n",
       "    }\n",
       "\n",
       "    .dataframe thead th {\n",
       "        text-align: right;\n",
       "    }\n",
       "</style>\n",
       "<table border=\"1\" class=\"dataframe\">\n",
       "  <thead>\n",
       "    <tr style=\"text-align: right;\">\n",
       "      <th></th>\n",
       "      <th>Total</th>\n",
       "      <th>Percent</th>\n",
       "    </tr>\n",
       "  </thead>\n",
       "  <tbody>\n",
       "    <tr>\n",
       "      <th>HiredSalaryOffer</th>\n",
       "      <td>98721</td>\n",
       "      <td>0.98721</td>\n",
       "    </tr>\n",
       "    <tr>\n",
       "      <th>GymBadge4Pokemon</th>\n",
       "      <td>98188</td>\n",
       "      <td>0.98188</td>\n",
       "    </tr>\n",
       "    <tr>\n",
       "      <th>OtherSchoolGPA</th>\n",
       "      <td>96219</td>\n",
       "      <td>0.96219</td>\n",
       "    </tr>\n",
       "    <tr>\n",
       "      <th>GraduateSchoolGPA</th>\n",
       "      <td>96111</td>\n",
       "      <td>0.96111</td>\n",
       "    </tr>\n",
       "    <tr>\n",
       "      <th>CurrentlyTrainingPokemon</th>\n",
       "      <td>96089</td>\n",
       "      <td>0.96089</td>\n",
       "    </tr>\n",
       "  </tbody>\n",
       "</table>\n",
       "</div>"
      ],
      "text/plain": [
       "                          Total  Percent\n",
       "HiredSalaryOffer          98721  0.98721\n",
       "GymBadge4Pokemon          98188  0.98188\n",
       "OtherSchoolGPA            96219  0.96219\n",
       "GraduateSchoolGPA         96111  0.96111\n",
       "CurrentlyTrainingPokemon  96089  0.96089"
      ]
     },
     "execution_count": 14,
     "metadata": {},
     "output_type": "execute_result"
    },
    {
     "data": {
      "image/png": "[encoded data removed]",
      "text/plain": [
       "<Figure size 1080x432 with 1 Axes>"
      ]
     },
     "metadata": {
      "needs_background": "light"
     },
     "output_type": "display_data"
    }
   ],
   "source": [
    "#Checking null and missing values values in dataset\n",
    "import matplotlib.pyplot as plt\n",
    "import seaborn as sns\n",
    "total = dataset.isnull().sum().sort_values(ascending=False)\n",
    "percent = (dataset.isnull().sum()/dataset.isnull().count()).sort_values(ascending=False)\n",
    "missing_data = pd.concat([total, percent], axis=1, keys=['Total', 'Percent'])\n",
    "f, ax = plt.subplots(figsize=(15, 6))\n",
    "plt.xticks(rotation='90')\n",
    "sns.barplot(x=missing_data.index, y=missing_data['Percent'])\n",
    "plt.xlabel('Features', fontsize=15)\n",
    "plt.ylabel('Percent of missing values', fontsize=15)\n",
    "plt.title('Percent missing data by feature', fontsize=15)\n",
    "missing_data.head()"
   ]
  },
  {
   "cell_type": "markdown",
   "metadata": {},
   "source": [
    "1. Substituting all the missing values by mean or mode will create bias in dataset as more than 90% values are missing for top 5 variables. \n",
    "2. Hence first doing backfill menthod, but after that few columns are still having missing values thus doing forward fill again."
   ]
  },
  {
   "cell_type": "code",
   "execution_count": 15,
   "metadata": {},
   "outputs": [],
   "source": [
    "dataset.fillna(method='bfill',inplace=True)\n",
    "dataset.fillna(method='ffill',inplace=True)"
   ]
  },
  {
   "cell_type": "code",
   "execution_count": null,
   "metadata": {},
   "outputs": [],
   "source": []
  },
  {
   "cell_type": "code",
   "execution_count": 16,
   "metadata": {},
   "outputs": [
    {
     "data": {
      "text/html": [
       "<div>\n",
       "<style scoped>\n",
       "    .dataframe tbody tr th:only-of-type {\n",
       "        vertical-align: middle;\n",
       "    }\n",
       "\n",
       "    .dataframe tbody tr th {\n",
       "        vertical-align: top;\n",
       "    }\n",
       "\n",
       "    .dataframe thead th {\n",
       "        text-align: right;\n",
       "    }\n",
       "</style>\n",
       "<table border=\"1\" class=\"dataframe\">\n",
       "  <thead>\n",
       "    <tr style=\"text-align: right;\">\n",
       "      <th></th>\n",
       "      <th>Total</th>\n",
       "      <th>Percent</th>\n",
       "    </tr>\n",
       "  </thead>\n",
       "  <tbody>\n",
       "    <tr>\n",
       "      <th>hired</th>\n",
       "      <td>0</td>\n",
       "      <td>0.0</td>\n",
       "    </tr>\n",
       "    <tr>\n",
       "      <th>JobShiftEvening</th>\n",
       "      <td>0</td>\n",
       "      <td>0.0</td>\n",
       "    </tr>\n",
       "    <tr>\n",
       "      <th>HighEduLevelCompleted</th>\n",
       "      <td>0</td>\n",
       "      <td>0.0</td>\n",
       "    </tr>\n",
       "    <tr>\n",
       "      <th>HighSchoolGPA</th>\n",
       "      <td>0</td>\n",
       "      <td>0.0</td>\n",
       "    </tr>\n",
       "    <tr>\n",
       "      <th>HighSchoolGraduate</th>\n",
       "      <td>0</td>\n",
       "      <td>0.0</td>\n",
       "    </tr>\n",
       "  </tbody>\n",
       "</table>\n",
       "</div>"
      ],
      "text/plain": [
       "                       Total  Percent\n",
       "hired                      0      0.0\n",
       "JobShiftEvening            0      0.0\n",
       "HighEduLevelCompleted      0      0.0\n",
       "HighSchoolGPA              0      0.0\n",
       "HighSchoolGraduate         0      0.0"
      ]
     },
     "execution_count": 16,
     "metadata": {},
     "output_type": "execute_result"
    },
    {
     "data": {
      "image/png": "[encoded data removed]",
      "text/plain": [
       "<Figure size 1080x432 with 1 Axes>"
      ]
     },
     "metadata": {
      "needs_background": "light"
     },
     "output_type": "display_data"
    }
   ],
   "source": [
    "#Confirming if all missing values are removed\n",
    "total = dataset.isnull().sum().sort_values(ascending=False)\n",
    "percent = (dataset.isnull().sum()/dataset.isnull().count()).sort_values(ascending=False)\n",
    "missing_data = pd.concat([total, percent], axis=1, keys=['Total', 'Percent'])\n",
    "f, ax = plt.subplots(figsize=(15, 6))\n",
    "plt.xticks(rotation='90')\n",
    "sns.barplot(x=missing_data.index, y=missing_data['Percent'])\n",
    "plt.xlabel('Features', fontsize=15)\n",
    "plt.ylabel('Percent of missing values', fontsize=15)\n",
    "plt.title('Percent missing data by feature', fontsize=15)\n",
    "missing_data.head()"
   ]
  },
  {
   "cell_type": "code",
   "execution_count": 17,
   "metadata": {},
   "outputs": [
    {
     "data": {
      "text/html": [
       "<div>\n",
       "<style scoped>\n",
       "    .dataframe tbody tr th:only-of-type {\n",
       "        vertical-align: middle;\n",
       "    }\n",
       "\n",
       "    .dataframe tbody tr th {\n",
       "        vertical-align: top;\n",
       "    }\n",
       "\n",
       "    .dataframe thead th {\n",
       "        text-align: right;\n",
       "    }\n",
       "</style>\n",
       "<table border=\"1\" class=\"dataframe\">\n",
       "  <thead>\n",
       "    <tr style=\"text-align: right;\">\n",
       "      <th></th>\n",
       "      <th>ApplicationStatus</th>\n",
       "      <th>ApplicationType</th>\n",
       "      <th>ApplyDate</th>\n",
       "      <th>CurrentlyEmployed</th>\n",
       "      <th>CurrentlyTrainingPokemon</th>\n",
       "      <th>CurrentlyWorkInThisRegion</th>\n",
       "      <th>GraduateSchoolGPA</th>\n",
       "      <th>GraduateSchoolGraduate</th>\n",
       "      <th>GymBadge1Pokemon</th>\n",
       "      <th>GymBadge2Pokemon</th>\n",
       "      <th>...</th>\n",
       "      <th>ReferenceRelationship3</th>\n",
       "      <th>SpokenWithCurrentBoss</th>\n",
       "      <th>TechnicalSchoolGPA</th>\n",
       "      <th>TechnicalSchoolGraduate</th>\n",
       "      <th>TotalYearsOfExp</th>\n",
       "      <th>UndergradSchoolGPA</th>\n",
       "      <th>UndergradSchoolGraduate</th>\n",
       "      <th>WorkedInThisRegion</th>\n",
       "      <th>WorkingForJobAppliedFor</th>\n",
       "      <th>hired</th>\n",
       "    </tr>\n",
       "  </thead>\n",
       "  <tbody>\n",
       "    <tr>\n",
       "      <th>0</th>\n",
       "      <td>Filed Not Hired</td>\n",
       "      <td>Applicant</td>\n",
       "      <td>11/26/2013</td>\n",
       "      <td>False</td>\n",
       "      <td>Mareep</td>\n",
       "      <td>False</td>\n",
       "      <td>3.85</td>\n",
       "      <td>Yes</td>\n",
       "      <td>Seedot</td>\n",
       "      <td>Audino</td>\n",
       "      <td>...</td>\n",
       "      <td>Fellow Trainer</td>\n",
       "      <td>True</td>\n",
       "      <td>3.6</td>\n",
       "      <td>Yes</td>\n",
       "      <td>3.0</td>\n",
       "      <td>3.0</td>\n",
       "      <td>No</td>\n",
       "      <td>False</td>\n",
       "      <td>False</td>\n",
       "      <td>0.0</td>\n",
       "    </tr>\n",
       "    <tr>\n",
       "      <th>1</th>\n",
       "      <td>Filed Not Hired</td>\n",
       "      <td>Applicant</td>\n",
       "      <td>11/27/2013</td>\n",
       "      <td>True</td>\n",
       "      <td>Mareep</td>\n",
       "      <td>False</td>\n",
       "      <td>3.85</td>\n",
       "      <td>Yes</td>\n",
       "      <td>Seedot</td>\n",
       "      <td>Audino</td>\n",
       "      <td>...</td>\n",
       "      <td>Fellow Trainer</td>\n",
       "      <td>True</td>\n",
       "      <td>3.6</td>\n",
       "      <td>Yes</td>\n",
       "      <td>5.0</td>\n",
       "      <td>3.0</td>\n",
       "      <td>No</td>\n",
       "      <td>False</td>\n",
       "      <td>False</td>\n",
       "      <td>0.0</td>\n",
       "    </tr>\n",
       "    <tr>\n",
       "      <th>2</th>\n",
       "      <td>Filed Not Hired</td>\n",
       "      <td>Applicant</td>\n",
       "      <td>11/22/2013</td>\n",
       "      <td>True</td>\n",
       "      <td>Mareep</td>\n",
       "      <td>False</td>\n",
       "      <td>3.85</td>\n",
       "      <td>Yes</td>\n",
       "      <td>Seedot</td>\n",
       "      <td>Audino</td>\n",
       "      <td>...</td>\n",
       "      <td>Fellow Trainer</td>\n",
       "      <td>True</td>\n",
       "      <td>3.6</td>\n",
       "      <td>Yes</td>\n",
       "      <td>5.0</td>\n",
       "      <td>3.0</td>\n",
       "      <td>Yes</td>\n",
       "      <td>False</td>\n",
       "      <td>False</td>\n",
       "      <td>0.0</td>\n",
       "    </tr>\n",
       "    <tr>\n",
       "      <th>3</th>\n",
       "      <td>Filed Not Hired</td>\n",
       "      <td>Applicant</td>\n",
       "      <td>11/23/2013</td>\n",
       "      <td>True</td>\n",
       "      <td>Mareep</td>\n",
       "      <td>False</td>\n",
       "      <td>3.85</td>\n",
       "      <td>Yes</td>\n",
       "      <td>Seedot</td>\n",
       "      <td>Audino</td>\n",
       "      <td>...</td>\n",
       "      <td>Boss</td>\n",
       "      <td>True</td>\n",
       "      <td>3.6</td>\n",
       "      <td>Yes</td>\n",
       "      <td>1.0</td>\n",
       "      <td>2.4</td>\n",
       "      <td>No</td>\n",
       "      <td>False</td>\n",
       "      <td>False</td>\n",
       "      <td>0.0</td>\n",
       "    </tr>\n",
       "    <tr>\n",
       "      <th>4</th>\n",
       "      <td>New</td>\n",
       "      <td>Applicant</td>\n",
       "      <td>11/23/2013</td>\n",
       "      <td>True</td>\n",
       "      <td>Mareep</td>\n",
       "      <td>False</td>\n",
       "      <td>3.85</td>\n",
       "      <td>Yes</td>\n",
       "      <td>Audino</td>\n",
       "      <td>Audino</td>\n",
       "      <td>...</td>\n",
       "      <td>Professor</td>\n",
       "      <td>True</td>\n",
       "      <td>3.6</td>\n",
       "      <td>Yes</td>\n",
       "      <td>3.0</td>\n",
       "      <td>3.0</td>\n",
       "      <td>No</td>\n",
       "      <td>False</td>\n",
       "      <td>False</td>\n",
       "      <td>0.0</td>\n",
       "    </tr>\n",
       "  </tbody>\n",
       "</table>\n",
       "<p>5 rows × 85 columns</p>\n",
       "</div>"
      ],
      "text/plain": [
       "  ApplicationStatus ApplicationType   ApplyDate  CurrentlyEmployed  \\\n",
       "0   Filed Not Hired       Applicant  11/26/2013              False   \n",
       "1   Filed Not Hired       Applicant  11/27/2013               True   \n",
       "2   Filed Not Hired       Applicant  11/22/2013               True   \n",
       "3   Filed Not Hired       Applicant  11/23/2013               True   \n",
       "4               New       Applicant  11/23/2013               True   \n",
       "\n",
       "  CurrentlyTrainingPokemon  CurrentlyWorkInThisRegion  GraduateSchoolGPA  \\\n",
       "0                   Mareep                      False               3.85   \n",
       "1                   Mareep                      False               3.85   \n",
       "2                   Mareep                      False               3.85   \n",
       "3                   Mareep                      False               3.85   \n",
       "4                   Mareep                      False               3.85   \n",
       "\n",
       "  GraduateSchoolGraduate GymBadge1Pokemon GymBadge2Pokemon  ...  \\\n",
       "0                    Yes           Seedot           Audino  ...   \n",
       "1                    Yes           Seedot           Audino  ...   \n",
       "2                    Yes           Seedot           Audino  ...   \n",
       "3                    Yes           Seedot           Audino  ...   \n",
       "4                    Yes           Audino           Audino  ...   \n",
       "\n",
       "  ReferenceRelationship3 SpokenWithCurrentBoss  TechnicalSchoolGPA  \\\n",
       "0         Fellow Trainer                  True                 3.6   \n",
       "1         Fellow Trainer                  True                 3.6   \n",
       "2         Fellow Trainer                  True                 3.6   \n",
       "3                   Boss                  True                 3.6   \n",
       "4              Professor                  True                 3.6   \n",
       "\n",
       "   TechnicalSchoolGraduate  TotalYearsOfExp  UndergradSchoolGPA  \\\n",
       "0                      Yes              3.0                 3.0   \n",
       "1                      Yes              5.0                 3.0   \n",
       "2                      Yes              5.0                 3.0   \n",
       "3                      Yes              1.0                 2.4   \n",
       "4                      Yes              3.0                 3.0   \n",
       "\n",
       "   UndergradSchoolGraduate  WorkedInThisRegion  WorkingForJobAppliedFor  hired  \n",
       "0                       No               False                    False    0.0  \n",
       "1                       No               False                    False    0.0  \n",
       "2                      Yes               False                    False    0.0  \n",
       "3                       No               False                    False    0.0  \n",
       "4                       No               False                    False    0.0  \n",
       "\n",
       "[5 rows x 85 columns]"
      ]
     },
     "execution_count": 17,
     "metadata": {},
     "output_type": "execute_result"
    }
   ],
   "source": [
    "dataset.head()"
   ]
  },
  {
   "cell_type": "code",
   "execution_count": 18,
   "metadata": {},
   "outputs": [
    {
     "data": {
      "text/plain": [
       "Index(['ApplicationStatus', 'ApplicationType', 'ApplyDate',\n",
       "       'CurrentlyEmployed', 'CurrentlyTrainingPokemon',\n",
       "       'CurrentlyWorkInThisRegion', 'GraduateSchoolGraduate',\n",
       "       'GymBadge1Pokemon', 'GymBadge2Pokemon', 'GymBadge3Pokemon',\n",
       "       'GymBadge4Pokemon', 'GymBadgePerm1', 'GymBadgePerm2', 'GymBadgePerm3',\n",
       "       'GymBadgePerm4', 'GymBadgeTemp1', 'GymBadgeTemp2', 'GymBadgeTemp3',\n",
       "       'GymBadgeTemp4', 'GymCertificationEverSuspended', 'GymCertified',\n",
       "       'HighEduLevelCompleted', 'HighSchoolGraduate', 'HiredSalaryOffer',\n",
       "       'InternalEmployee', 'JobPostingDate', 'JobSchedule', 'JobShiftDay',\n",
       "       'JobShiftEvening', 'JobShiftNight', 'JobShiftRotating',\n",
       "       'JobShiftWeekend', 'JobStatusFlexTime', 'JobStatusFullTime',\n",
       "       'JobStatusPartTime', 'JobStatusPerDiem', 'JobStatusTemp',\n",
       "       'LastPerformaceRating', 'OtherSchoolGraduate', 'PokemonTrainerClass',\n",
       "       'PokemonWorldRegion', 'PositionForTrainingPokemon',\n",
       "       'RecentTrainingExperience1ContactForRef',\n",
       "       'RecentTrainingExperience1EmploymentStatus',\n",
       "       'RecentTrainingExperience1From', 'RecentTrainingExperience1PayRateEnd',\n",
       "       'RecentTrainingExperience1Pokemon', 'RecentTrainingExperience1To',\n",
       "       'RecentTrainingExperience2ContactForRef',\n",
       "       'RecentTrainingExperience2EmploymentStatus',\n",
       "       'RecentTrainingExperience2From', 'RecentTrainingExperience2PayRateEnd',\n",
       "       'RecentTrainingExperience2Pokemon', 'RecentTrainingExperience2To',\n",
       "       'RecentTrainingExperience3ContactForRef',\n",
       "       'RecentTrainingExperience3EmploymentStatus',\n",
       "       'RecentTrainingExperience3From', 'RecentTrainingExperience3PayRateEnd',\n",
       "       'RecentTrainingExperience3Pokemon', 'RecentTrainingExperience3To',\n",
       "       'RecentTrainingExperience4ContactForRef',\n",
       "       'RecentTrainingExperience4EmploymentStatus',\n",
       "       'RecentTrainingExperience4From', 'RecentTrainingExperience4PayRateEnd',\n",
       "       'RecentTrainingExperience4Pokemon', 'RecentTrainingExperience4To',\n",
       "       'RecentTrainingExperienceContactForRefNA',\n",
       "       'RecentTrainingExperienceContactForRefNo',\n",
       "       'RecentTrainingExperienceContactForRefPostHire',\n",
       "       'RecentTrainingExperienceContactForRefYes', 'ReferenceRelationship1',\n",
       "       'ReferenceRelationship2', 'ReferenceRelationship3',\n",
       "       'SpokenWithCurrentBoss', 'TechnicalSchoolGraduate',\n",
       "       'UndergradSchoolGraduate', 'WorkedInThisRegion',\n",
       "       'WorkingForJobAppliedFor'],\n",
       "      dtype='object')"
      ]
     },
     "execution_count": 18,
     "metadata": {},
     "output_type": "execute_result"
    }
   ],
   "source": [
    "#Categorical Variables\n",
    "dataset.select_dtypes(exclude=['int', 'float']).columns"
   ]
  },
  {
   "cell_type": "markdown",
   "metadata": {},
   "source": [
    "Now all categorical variables are converted into numeric value. This way these variables can be added into predicting models."
   ]
  },
  {
   "cell_type": "code",
   "execution_count": 20,
   "metadata": {},
   "outputs": [],
   "source": [
    "# Import label encoder \n",
    "from sklearn import preprocessing \n",
    "  \n",
    "# label encoding all categorical variables\n",
    "label_encoder = preprocessing.LabelEncoder()\n",
    "\n",
    "#Storing output of all categorical column names in List\n",
    "Categorical_Column_List=dataset.select_dtypes(exclude=['int', 'float']).columns\n",
    "\n",
    "#This list is same as output of above cell. Now implementing the transformation on main dataset.\n",
    "for i in Categorical_Column_List:\n",
    "    dataset[i]= label_encoder.fit_transform(dataset[i]) \n",
    "    dataset[i].unique() "
   ]
  },
  {
   "cell_type": "code",
   "execution_count": 21,
   "metadata": {},
   "outputs": [
    {
     "data": {
      "text/html": [
       "<div>\n",
       "<style scoped>\n",
       "    .dataframe tbody tr th:only-of-type {\n",
       "        vertical-align: middle;\n",
       "    }\n",
       "\n",
       "    .dataframe tbody tr th {\n",
       "        vertical-align: top;\n",
       "    }\n",
       "\n",
       "    .dataframe thead th {\n",
       "        text-align: right;\n",
       "    }\n",
       "</style>\n",
       "<table border=\"1\" class=\"dataframe\">\n",
       "  <thead>\n",
       "    <tr style=\"text-align: right;\">\n",
       "      <th></th>\n",
       "      <th>ApplicationStatus</th>\n",
       "      <th>ApplicationType</th>\n",
       "      <th>ApplyDate</th>\n",
       "      <th>CurrentlyEmployed</th>\n",
       "      <th>CurrentlyTrainingPokemon</th>\n",
       "      <th>CurrentlyWorkInThisRegion</th>\n",
       "      <th>GraduateSchoolGPA</th>\n",
       "      <th>GraduateSchoolGraduate</th>\n",
       "      <th>GymBadge1Pokemon</th>\n",
       "      <th>GymBadge2Pokemon</th>\n",
       "      <th>...</th>\n",
       "      <th>ReferenceRelationship3</th>\n",
       "      <th>SpokenWithCurrentBoss</th>\n",
       "      <th>TechnicalSchoolGPA</th>\n",
       "      <th>TechnicalSchoolGraduate</th>\n",
       "      <th>TotalYearsOfExp</th>\n",
       "      <th>UndergradSchoolGPA</th>\n",
       "      <th>UndergradSchoolGraduate</th>\n",
       "      <th>WorkedInThisRegion</th>\n",
       "      <th>WorkingForJobAppliedFor</th>\n",
       "      <th>hired</th>\n",
       "    </tr>\n",
       "  </thead>\n",
       "  <tbody>\n",
       "    <tr>\n",
       "      <th>0</th>\n",
       "      <td>5</td>\n",
       "      <td>0</td>\n",
       "      <td>405</td>\n",
       "      <td>0</td>\n",
       "      <td>13</td>\n",
       "      <td>0</td>\n",
       "      <td>3.85</td>\n",
       "      <td>1</td>\n",
       "      <td>24</td>\n",
       "      <td>1</td>\n",
       "      <td>...</td>\n",
       "      <td>1</td>\n",
       "      <td>1</td>\n",
       "      <td>3.6</td>\n",
       "      <td>1</td>\n",
       "      <td>3.0</td>\n",
       "      <td>3.0</td>\n",
       "      <td>0</td>\n",
       "      <td>0</td>\n",
       "      <td>0</td>\n",
       "      <td>0.0</td>\n",
       "    </tr>\n",
       "    <tr>\n",
       "      <th>1</th>\n",
       "      <td>5</td>\n",
       "      <td>0</td>\n",
       "      <td>410</td>\n",
       "      <td>1</td>\n",
       "      <td>13</td>\n",
       "      <td>0</td>\n",
       "      <td>3.85</td>\n",
       "      <td>1</td>\n",
       "      <td>24</td>\n",
       "      <td>1</td>\n",
       "      <td>...</td>\n",
       "      <td>1</td>\n",
       "      <td>1</td>\n",
       "      <td>3.6</td>\n",
       "      <td>1</td>\n",
       "      <td>5.0</td>\n",
       "      <td>3.0</td>\n",
       "      <td>0</td>\n",
       "      <td>0</td>\n",
       "      <td>0</td>\n",
       "      <td>0.0</td>\n",
       "    </tr>\n",
       "    <tr>\n",
       "      <th>2</th>\n",
       "      <td>5</td>\n",
       "      <td>0</td>\n",
       "      <td>385</td>\n",
       "      <td>1</td>\n",
       "      <td>13</td>\n",
       "      <td>0</td>\n",
       "      <td>3.85</td>\n",
       "      <td>1</td>\n",
       "      <td>24</td>\n",
       "      <td>1</td>\n",
       "      <td>...</td>\n",
       "      <td>1</td>\n",
       "      <td>1</td>\n",
       "      <td>3.6</td>\n",
       "      <td>1</td>\n",
       "      <td>5.0</td>\n",
       "      <td>3.0</td>\n",
       "      <td>1</td>\n",
       "      <td>0</td>\n",
       "      <td>0</td>\n",
       "      <td>0.0</td>\n",
       "    </tr>\n",
       "    <tr>\n",
       "      <th>3</th>\n",
       "      <td>5</td>\n",
       "      <td>0</td>\n",
       "      <td>390</td>\n",
       "      <td>1</td>\n",
       "      <td>13</td>\n",
       "      <td>0</td>\n",
       "      <td>3.85</td>\n",
       "      <td>1</td>\n",
       "      <td>24</td>\n",
       "      <td>1</td>\n",
       "      <td>...</td>\n",
       "      <td>0</td>\n",
       "      <td>1</td>\n",
       "      <td>3.6</td>\n",
       "      <td>1</td>\n",
       "      <td>1.0</td>\n",
       "      <td>2.4</td>\n",
       "      <td>0</td>\n",
       "      <td>0</td>\n",
       "      <td>0</td>\n",
       "      <td>0.0</td>\n",
       "    </tr>\n",
       "    <tr>\n",
       "      <th>4</th>\n",
       "      <td>7</td>\n",
       "      <td>0</td>\n",
       "      <td>390</td>\n",
       "      <td>1</td>\n",
       "      <td>13</td>\n",
       "      <td>0</td>\n",
       "      <td>3.85</td>\n",
       "      <td>1</td>\n",
       "      <td>2</td>\n",
       "      <td>1</td>\n",
       "      <td>...</td>\n",
       "      <td>5</td>\n",
       "      <td>1</td>\n",
       "      <td>3.6</td>\n",
       "      <td>1</td>\n",
       "      <td>3.0</td>\n",
       "      <td>3.0</td>\n",
       "      <td>0</td>\n",
       "      <td>0</td>\n",
       "      <td>0</td>\n",
       "      <td>0.0</td>\n",
       "    </tr>\n",
       "  </tbody>\n",
       "</table>\n",
       "<p>5 rows × 85 columns</p>\n",
       "</div>"
      ],
      "text/plain": [
       "   ApplicationStatus  ApplicationType  ApplyDate  CurrentlyEmployed  \\\n",
       "0                  5                0        405                  0   \n",
       "1                  5                0        410                  1   \n",
       "2                  5                0        385                  1   \n",
       "3                  5                0        390                  1   \n",
       "4                  7                0        390                  1   \n",
       "\n",
       "   CurrentlyTrainingPokemon  CurrentlyWorkInThisRegion  GraduateSchoolGPA  \\\n",
       "0                        13                          0               3.85   \n",
       "1                        13                          0               3.85   \n",
       "2                        13                          0               3.85   \n",
       "3                        13                          0               3.85   \n",
       "4                        13                          0               3.85   \n",
       "\n",
       "   GraduateSchoolGraduate  GymBadge1Pokemon  GymBadge2Pokemon  ...  \\\n",
       "0                       1                24                 1  ...   \n",
       "1                       1                24                 1  ...   \n",
       "2                       1                24                 1  ...   \n",
       "3                       1                24                 1  ...   \n",
       "4                       1                 2                 1  ...   \n",
       "\n",
       "   ReferenceRelationship3  SpokenWithCurrentBoss  TechnicalSchoolGPA  \\\n",
       "0                       1                      1                 3.6   \n",
       "1                       1                      1                 3.6   \n",
       "2                       1                      1                 3.6   \n",
       "3                       0                      1                 3.6   \n",
       "4                       5                      1                 3.6   \n",
       "\n",
       "   TechnicalSchoolGraduate  TotalYearsOfExp  UndergradSchoolGPA  \\\n",
       "0                        1              3.0                 3.0   \n",
       "1                        1              5.0                 3.0   \n",
       "2                        1              5.0                 3.0   \n",
       "3                        1              1.0                 2.4   \n",
       "4                        1              3.0                 3.0   \n",
       "\n",
       "   UndergradSchoolGraduate  WorkedInThisRegion  WorkingForJobAppliedFor  hired  \n",
       "0                        0                   0                        0    0.0  \n",
       "1                        0                   0                        0    0.0  \n",
       "2                        1                   0                        0    0.0  \n",
       "3                        0                   0                        0    0.0  \n",
       "4                        0                   0                        0    0.0  \n",
       "\n",
       "[5 rows x 85 columns]"
      ]
     },
     "execution_count": 21,
     "metadata": {},
     "output_type": "execute_result"
    }
   ],
   "source": [
    "#Confirming the changes in data\n",
    "dataset.head()"
   ]
  },
  {
   "cell_type": "code",
   "execution_count": null,
   "metadata": {},
   "outputs": [],
   "source": []
  },
  {
   "cell_type": "code",
   "execution_count": 22,
   "metadata": {},
   "outputs": [
    {
     "data": {
      "text/plain": [
       "ApplicationStatus                               -0.290190\n",
       "JobShiftEvening                                 -0.051471\n",
       "JobShiftWeekend                                 -0.041326\n",
       "JobStatusPartTime                               -0.039543\n",
       "JobShiftNight                                   -0.036907\n",
       "JobShiftRotating                                -0.030065\n",
       "JobShiftDay                                     -0.023202\n",
       "JobStatusFullTime                               -0.023015\n",
       "JobStatusTemp                                   -0.020419\n",
       "JobStatusFlexTime                               -0.015164\n",
       "RecentTrainingExperience1ContactForRef          -0.014277\n",
       "HighEduLevelCompleted                           -0.013419\n",
       "RecentTrainingExperience1EmploymentStatus       -0.012411\n",
       "PokemonTrainerClass                             -0.009537\n",
       "RecentTrainingExperience3EmploymentStatus       -0.009384\n",
       "JobSchedule                                     -0.007180\n",
       "RecentTrainingExperience2EmploymentStatus       -0.006583\n",
       "GymBadge1Pokemon                                -0.006216\n",
       "RecentTrainingExperience4From                   -0.005992\n",
       "RecentTrainingExperience4EmploymentStatus       -0.005678\n",
       "RecentTrainingExperience3PayRateEnd             -0.003818\n",
       "PokemonWorldRegion                              -0.003752\n",
       "RecentTrainingExperience4PayRateEnd             -0.003247\n",
       "ReferenceRelationship2                          -0.003009\n",
       "RecentTrainingExperience2Pokemon                -0.002352\n",
       "RecentTrainingExperienceContactForRefNA         -0.002019\n",
       "RecentTrainingExperience3From                   -0.001884\n",
       "JobPostingDate                                  -0.001483\n",
       "RecentTrainingExperience1From                   -0.001445\n",
       "RecentTrainingExperienceContactForRefPostHire   -0.001267\n",
       "                                                   ...   \n",
       "GymBadgeTemp3                                    0.003955\n",
       "GymBadgeTemp4                                    0.004115\n",
       "ReferenceRelationship1                           0.004577\n",
       "HighSchoolGraduate                               0.004713\n",
       "GymBadgePerm4                                    0.005842\n",
       "GymBadgeTemp2                                    0.005842\n",
       "HiredSalaryOffer                                 0.005887\n",
       "PositionForTrainingPokemon                       0.006271\n",
       "OtherSchoolGraduate                              0.006316\n",
       "JobStatusPerDiem                                 0.007229\n",
       "TechnicalSchoolGPA                               0.008300\n",
       "GraduateSchoolGPA                                0.008943\n",
       "GymBadgePerm3                                    0.009197\n",
       "WorkingForJobAppliedFor                          0.010552\n",
       "GraduateSchoolGraduate                           0.011327\n",
       "SpokenWithCurrentBoss                            0.013065\n",
       "TechnicalSchoolGraduate                          0.014023\n",
       "GymBadgePerm2                                    0.014040\n",
       "UndergradSchoolGPA                               0.015311\n",
       "HighSchoolGPA                                    0.015390\n",
       "GymCertified                                     0.024371\n",
       "CurrentlyEmployed                                0.028168\n",
       "CurrentlyWorkInThisRegion                        0.029263\n",
       "WorkedInThisRegion                               0.032455\n",
       "UndergradSchoolGraduate                          0.037953\n",
       "TotalYearsOfExp                                  0.038712\n",
       "GymBadgePerm1                                    0.040922\n",
       "InternalEmployee                                 0.111375\n",
       "ApplicationType                                  0.256258\n",
       "hired                                            1.000000\n",
       "Name: hired, Length: 85, dtype: float64"
      ]
     },
     "execution_count": 22,
     "metadata": {},
     "output_type": "execute_result"
    }
   ],
   "source": [
    "#Now calculating the correlation and filtering values w.r.t. only Hired Variable.\n",
    "Correlation=dataset.corr()\n",
    "Correlation[\"hired\"].sort_values()"
   ]
  },
  {
   "cell_type": "markdown",
   "metadata": {},
   "source": [
    "Below are negatively correlated factors. Means increase in these values will reduce the chances of getting hired\n",
    "'ApplicationStatus','JobShiftEvening','JobShiftWeekend','JobStatusPartTime','JobShiftNight','JobShiftRotating', 'JobShiftDay','JobStatusFullTime','JobStatusTemp','JobStatusFlexTime','RecentTrainingExperience1ContactForRef', 'HighEduLevelCompleted','RecentTrainingExperience1EmploymentStatus',''"
   ]
  },
  {
   "cell_type": "markdown",
   "metadata": {},
   "source": [
    "Below are positevely correlated factors. Means increase in these values will increase the chances of getting hired \n",
    "'WorkingForJobAppliedFor','GraduateSchoolGraduate','SpokenWithCurrentBoss','TechnicalSchoolGraduate','GymBadgePerm2',\n",
    "'UndergradSchoolGPA','HighSchoolGPA','GymCertified','CurrentlyEmployed','CurrentlyWorkInThisRegion','WorkedInThisRegion',\n",
    "'UndergradSchoolGraduate','TotalYearsOfExp','GymBadgePerm1','InternalEmployee','ApplicationType'"
   ]
  },
  {
   "cell_type": "markdown",
   "metadata": {},
   "source": [
    "These set of Variables is having more than 1% of correlation with Target Variable i.e. 'hired'. Hence choosing these variables from set of all 85 variables."
   ]
  },
  {
   "cell_type": "markdown",
   "metadata": {},
   "source": [
    "Above values are only for reference idea of correlation, as individual values associted with each category is calculated by Label Encoding. And the problem with Label Encoding is it doesn't assign the values as per the importance. One possible solution for this problme is use One Hot encoding, but considering the levels in each variable, it will generate extremly sparse matrix. Hence continuing with Label Encoding."
   ]
  },
  {
   "cell_type": "code",
   "execution_count": 23,
   "metadata": {},
   "outputs": [],
   "source": [
    "X=dataset[['ApplicationStatus','JobShiftEvening','JobShiftWeekend','JobStatusPartTime','JobShiftNight','JobShiftRotating','JobShiftDay','JobStatusFullTime','JobStatusTemp','JobStatusFlexTime','RecentTrainingExperience1ContactForRef','HighEduLevelCompleted','RecentTrainingExperience1EmploymentStatus','WorkingForJobAppliedFor','GraduateSchoolGraduate','SpokenWithCurrentBoss','TechnicalSchoolGraduate','GymBadgePerm2','UndergradSchoolGPA','HighSchoolGPA','GymCertified','CurrentlyEmployed','CurrentlyWorkInThisRegion','WorkedInThisRegion','UndergradSchoolGraduate','TotalYearsOfExp','GymBadgePerm1','InternalEmployee','ApplicationType']]\n",
    "Y=dataset['hired']\n",
    "\n",
    "#Dataset split is 80% Training and 20% Test\n",
    "from sklearn.model_selection import train_test_split\n",
    "X_Train, X_Test, Y_Train, Y_Test = train_test_split(X, Y, test_size=0.2, random_state=42)"
   ]
  },
  {
   "cell_type": "code",
   "execution_count": 24,
   "metadata": {},
   "outputs": [
    {
     "data": {
      "text/plain": [
       "0.0    78569\n",
       "1.0     1431\n",
       "Name: hired, dtype: int64"
      ]
     },
     "execution_count": 24,
     "metadata": {},
     "output_type": "execute_result"
    }
   ],
   "source": [
    "#We can confirm here that dataset is extremly skewed. \n",
    "Y_Train.value_counts()"
   ]
  },
  {
   "cell_type": "markdown",
   "metadata": {},
   "source": [
    "Using SMOTE oversampling technique, I'm generating similar datapoints in only training set to make model more robust."
   ]
  },
  {
   "cell_type": "code",
   "execution_count": 25,
   "metadata": {},
   "outputs": [
    {
     "name": "stdout",
     "output_type": "stream",
     "text": [
      "[0. 1.] [78569 78569]\n"
     ]
    }
   ],
   "source": [
    "#To handle the data imbalance, implementing SMOTE oversampling technique.\n",
    "import numpy as np\n",
    "from imblearn.over_sampling import SMOTE\n",
    "sm=SMOTE()\n",
    "X_Resampled, Y_Resampled=sm.fit_sample(X_Train,Y_Train)\n",
    "unique, counts=np.unique(Y_Resampled,return_counts= True)\n",
    "\n",
    "#Confirming if data imbalance is handled or not\n",
    "print(unique, counts)"
   ]
  },
  {
   "cell_type": "code",
   "execution_count": 26,
   "metadata": {},
   "outputs": [
    {
     "data": {
      "text/html": [
       "<div>\n",
       "<style scoped>\n",
       "    .dataframe tbody tr th:only-of-type {\n",
       "        vertical-align: middle;\n",
       "    }\n",
       "\n",
       "    .dataframe tbody tr th {\n",
       "        vertical-align: top;\n",
       "    }\n",
       "\n",
       "    .dataframe thead th {\n",
       "        text-align: right;\n",
       "    }\n",
       "</style>\n",
       "<table border=\"1\" class=\"dataframe\">\n",
       "  <thead>\n",
       "    <tr style=\"text-align: right;\">\n",
       "      <th></th>\n",
       "      <th>ApplicationStatus</th>\n",
       "      <th>JobShiftEvening</th>\n",
       "      <th>JobShiftWeekend</th>\n",
       "      <th>JobStatusPartTime</th>\n",
       "      <th>JobShiftNight</th>\n",
       "      <th>JobShiftRotating</th>\n",
       "      <th>JobShiftDay</th>\n",
       "      <th>JobStatusFullTime</th>\n",
       "      <th>JobStatusTemp</th>\n",
       "      <th>JobStatusFlexTime</th>\n",
       "      <th>...</th>\n",
       "      <th>HighSchoolGPA</th>\n",
       "      <th>GymCertified</th>\n",
       "      <th>CurrentlyEmployed</th>\n",
       "      <th>CurrentlyWorkInThisRegion</th>\n",
       "      <th>WorkedInThisRegion</th>\n",
       "      <th>UndergradSchoolGraduate</th>\n",
       "      <th>TotalYearsOfExp</th>\n",
       "      <th>GymBadgePerm1</th>\n",
       "      <th>InternalEmployee</th>\n",
       "      <th>ApplicationType</th>\n",
       "    </tr>\n",
       "  </thead>\n",
       "  <tbody>\n",
       "    <tr>\n",
       "      <th>75721</th>\n",
       "      <td>5</td>\n",
       "      <td>1</td>\n",
       "      <td>1</td>\n",
       "      <td>1</td>\n",
       "      <td>1</td>\n",
       "      <td>1</td>\n",
       "      <td>1</td>\n",
       "      <td>1</td>\n",
       "      <td>1</td>\n",
       "      <td>1</td>\n",
       "      <td>...</td>\n",
       "      <td>3.0</td>\n",
       "      <td>1</td>\n",
       "      <td>0</td>\n",
       "      <td>0</td>\n",
       "      <td>0</td>\n",
       "      <td>0</td>\n",
       "      <td>1.0</td>\n",
       "      <td>0</td>\n",
       "      <td>0</td>\n",
       "      <td>0</td>\n",
       "    </tr>\n",
       "    <tr>\n",
       "      <th>80184</th>\n",
       "      <td>5</td>\n",
       "      <td>0</td>\n",
       "      <td>0</td>\n",
       "      <td>0</td>\n",
       "      <td>0</td>\n",
       "      <td>0</td>\n",
       "      <td>1</td>\n",
       "      <td>1</td>\n",
       "      <td>0</td>\n",
       "      <td>0</td>\n",
       "      <td>...</td>\n",
       "      <td>3.5</td>\n",
       "      <td>0</td>\n",
       "      <td>1</td>\n",
       "      <td>0</td>\n",
       "      <td>0</td>\n",
       "      <td>0</td>\n",
       "      <td>1.0</td>\n",
       "      <td>1</td>\n",
       "      <td>0</td>\n",
       "      <td>0</td>\n",
       "    </tr>\n",
       "    <tr>\n",
       "      <th>19864</th>\n",
       "      <td>5</td>\n",
       "      <td>0</td>\n",
       "      <td>0</td>\n",
       "      <td>1</td>\n",
       "      <td>0</td>\n",
       "      <td>0</td>\n",
       "      <td>1</td>\n",
       "      <td>0</td>\n",
       "      <td>0</td>\n",
       "      <td>1</td>\n",
       "      <td>...</td>\n",
       "      <td>3.8</td>\n",
       "      <td>1</td>\n",
       "      <td>1</td>\n",
       "      <td>0</td>\n",
       "      <td>0</td>\n",
       "      <td>0</td>\n",
       "      <td>10.0</td>\n",
       "      <td>1</td>\n",
       "      <td>1</td>\n",
       "      <td>0</td>\n",
       "    </tr>\n",
       "    <tr>\n",
       "      <th>76699</th>\n",
       "      <td>5</td>\n",
       "      <td>1</td>\n",
       "      <td>1</td>\n",
       "      <td>1</td>\n",
       "      <td>1</td>\n",
       "      <td>1</td>\n",
       "      <td>1</td>\n",
       "      <td>1</td>\n",
       "      <td>1</td>\n",
       "      <td>1</td>\n",
       "      <td>...</td>\n",
       "      <td>3.8</td>\n",
       "      <td>0</td>\n",
       "      <td>0</td>\n",
       "      <td>0</td>\n",
       "      <td>0</td>\n",
       "      <td>0</td>\n",
       "      <td>5.0</td>\n",
       "      <td>1</td>\n",
       "      <td>0</td>\n",
       "      <td>0</td>\n",
       "    </tr>\n",
       "    <tr>\n",
       "      <th>92991</th>\n",
       "      <td>6</td>\n",
       "      <td>1</td>\n",
       "      <td>1</td>\n",
       "      <td>1</td>\n",
       "      <td>1</td>\n",
       "      <td>1</td>\n",
       "      <td>1</td>\n",
       "      <td>1</td>\n",
       "      <td>1</td>\n",
       "      <td>1</td>\n",
       "      <td>...</td>\n",
       "      <td>3.8</td>\n",
       "      <td>0</td>\n",
       "      <td>0</td>\n",
       "      <td>0</td>\n",
       "      <td>0</td>\n",
       "      <td>0</td>\n",
       "      <td>1.0</td>\n",
       "      <td>0</td>\n",
       "      <td>0</td>\n",
       "      <td>0</td>\n",
       "    </tr>\n",
       "  </tbody>\n",
       "</table>\n",
       "<p>5 rows × 29 columns</p>\n",
       "</div>"
      ],
      "text/plain": [
       "       ApplicationStatus  JobShiftEvening  JobShiftWeekend  JobStatusPartTime  \\\n",
       "75721                  5                1                1                  1   \n",
       "80184                  5                0                0                  0   \n",
       "19864                  5                0                0                  1   \n",
       "76699                  5                1                1                  1   \n",
       "92991                  6                1                1                  1   \n",
       "\n",
       "       JobShiftNight  JobShiftRotating  JobShiftDay  JobStatusFullTime  \\\n",
       "75721              1                 1            1                  1   \n",
       "80184              0                 0            1                  1   \n",
       "19864              0                 0            1                  0   \n",
       "76699              1                 1            1                  1   \n",
       "92991              1                 1            1                  1   \n",
       "\n",
       "       JobStatusTemp  JobStatusFlexTime  ...  HighSchoolGPA  GymCertified  \\\n",
       "75721              1                  1  ...            3.0             1   \n",
       "80184              0                  0  ...            3.5             0   \n",
       "19864              0                  1  ...            3.8             1   \n",
       "76699              1                  1  ...            3.8             0   \n",
       "92991              1                  1  ...            3.8             0   \n",
       "\n",
       "       CurrentlyEmployed  CurrentlyWorkInThisRegion  WorkedInThisRegion  \\\n",
       "75721                  0                          0                   0   \n",
       "80184                  1                          0                   0   \n",
       "19864                  1                          0                   0   \n",
       "76699                  0                          0                   0   \n",
       "92991                  0                          0                   0   \n",
       "\n",
       "       UndergradSchoolGraduate  TotalYearsOfExp  GymBadgePerm1  \\\n",
       "75721                        0              1.0              0   \n",
       "80184                        0              1.0              1   \n",
       "19864                        0             10.0              1   \n",
       "76699                        0              5.0              1   \n",
       "92991                        0              1.0              0   \n",
       "\n",
       "       InternalEmployee  ApplicationType  \n",
       "75721                 0                0  \n",
       "80184                 0                0  \n",
       "19864                 1                0  \n",
       "76699                 0                0  \n",
       "92991                 0                0  \n",
       "\n",
       "[5 rows x 29 columns]"
      ]
     },
     "execution_count": 26,
     "metadata": {},
     "output_type": "execute_result"
    }
   ],
   "source": [
    "X_Test.head()"
   ]
  },
  {
   "cell_type": "code",
   "execution_count": null,
   "metadata": {},
   "outputs": [],
   "source": [
    "#Iloc\n",
    "#X = data.iloc[:,1:]"
   ]
  },
  {
   "cell_type": "markdown",
   "metadata": {},
   "source": [
    "## Model Building "
   ]
  },
  {
   "cell_type": "markdown",
   "metadata": {},
   "source": [
    "As dataset is extremly skewed, Accuracy can't be correct measure the model performance. Hence, I'm refering Confusion Matrix and Classification Report to evaluate model performance. "
   ]
  },
  {
   "cell_type": "code",
   "execution_count": 27,
   "metadata": {},
   "outputs": [],
   "source": [
    "from sklearn.metrics import confusion_matrix,classification_report"
   ]
  },
  {
   "cell_type": "code",
   "execution_count": 32,
   "metadata": {},
   "outputs": [],
   "source": [
    "#Function to Plot ROC Curve\n",
    "from sklearn.metrics import roc_auc_score, roc_curve\n",
    "def plot_roc_curve(fpr, tpr):\n",
    "    plt.plot(fpr, tpr, color='orange', label='ROC')\n",
    "    plt.plot([0, 1], [0, 1], color='darkblue', linestyle='--')\n",
    "    plt.xlabel('False Positive Rate')\n",
    "    plt.ylabel('True Positive Rate')\n",
    "    plt.title('Receiver Operating Characteristic (ROC) Curve')\n",
    "    plt.legend()\n",
    "    plt.show()"
   ]
  },
  {
   "cell_type": "markdown",
   "metadata": {},
   "source": [
    "### 1. Random Forest "
   ]
  },
  {
   "cell_type": "code",
   "execution_count": 28,
   "metadata": {},
   "outputs": [
    {
     "name": "stderr",
     "output_type": "stream",
     "text": [
      "D:\\Python\\lib\\site-packages\\sklearn\\ensemble\\forest.py:246: FutureWarning: The default value of n_estimators will change from 10 in version 0.20 to 100 in 0.22.\n",
      "  \"10 in version 0.20 to 100 in 0.22.\", FutureWarning)\n"
     ]
    },
    {
     "name": "stdout",
     "output_type": "stream",
     "text": [
      "\n",
      "\n",
      "Classification Report for Random Forest Classifier\n",
      "\n",
      "\n",
      "              precision    recall  f1-score   support\n",
      "\n",
      "         0.0       1.00      1.00      1.00     19634\n",
      "         1.0       0.93      0.92      0.93       366\n",
      "\n",
      "   micro avg       1.00      1.00      1.00     20000\n",
      "   macro avg       0.97      0.96      0.96     20000\n",
      "weighted avg       1.00      1.00      1.00     20000\n",
      "\n",
      "\n",
      "\n",
      "Confusion Matrix for Random Forest Classifier\n"
     ]
    },
    {
     "data": {
      "text/html": [
       "<div>\n",
       "<style scoped>\n",
       "    .dataframe tbody tr th:only-of-type {\n",
       "        vertical-align: middle;\n",
       "    }\n",
       "\n",
       "    .dataframe tbody tr th {\n",
       "        vertical-align: top;\n",
       "    }\n",
       "\n",
       "    .dataframe thead th {\n",
       "        text-align: right;\n",
       "    }\n",
       "</style>\n",
       "<table border=\"1\" class=\"dataframe\">\n",
       "  <thead>\n",
       "    <tr style=\"text-align: right;\">\n",
       "      <th>Predicted</th>\n",
       "      <th>0.0</th>\n",
       "      <th>1.0</th>\n",
       "      <th>All</th>\n",
       "    </tr>\n",
       "    <tr>\n",
       "      <th>True</th>\n",
       "      <th></th>\n",
       "      <th></th>\n",
       "      <th></th>\n",
       "    </tr>\n",
       "  </thead>\n",
       "  <tbody>\n",
       "    <tr>\n",
       "      <th>0.0</th>\n",
       "      <td>19610</td>\n",
       "      <td>24</td>\n",
       "      <td>19634</td>\n",
       "    </tr>\n",
       "    <tr>\n",
       "      <th>1.0</th>\n",
       "      <td>28</td>\n",
       "      <td>338</td>\n",
       "      <td>366</td>\n",
       "    </tr>\n",
       "    <tr>\n",
       "      <th>All</th>\n",
       "      <td>19638</td>\n",
       "      <td>362</td>\n",
       "      <td>20000</td>\n",
       "    </tr>\n",
       "  </tbody>\n",
       "</table>\n",
       "</div>"
      ],
      "text/plain": [
       "Predicted    0.0  1.0    All\n",
       "True                        \n",
       "0.0        19610   24  19634\n",
       "1.0           28  338    366\n",
       "All        19638  362  20000"
      ]
     },
     "execution_count": 28,
     "metadata": {},
     "output_type": "execute_result"
    }
   ],
   "source": [
    "#Random Forest\n",
    "from sklearn.ensemble import RandomForestClassifier\n",
    "Random_Forest=RandomForestClassifier(max_depth=10)\n",
    "model1=Random_Forest.fit(X_Resampled, Y_Resampled)\n",
    "Y_Pred_RF=Random_Forest.predict(X_Test)\n",
    "print('\\n')\n",
    "print(\"Classification Report for Random Forest Classifier\")\n",
    "print('\\n')\n",
    "print(classification_report(Y_Test,Y_Pred_RF))\n",
    "print('\\n')\n",
    "print(\"Confusion Matrix for Random Forest Classifier\")\n",
    "pd.crosstab(Y_Test,Y_Pred_RF,rownames=['True'],colnames=['Predicted'],margins=True)"
   ]
  },
  {
   "cell_type": "code",
   "execution_count": 60,
   "metadata": {},
   "outputs": [
    {
     "data": {
      "image/png": "[encoded data removed]",
      "text/plain": [
       "<Figure size 432x288 with 1 Axes>"
      ]
     },
     "metadata": {
      "needs_background": "light"
     },
     "output_type": "display_data"
    }
   ],
   "source": [
    "from sklearn.metrics import roc_auc_score, roc_curve\n",
    "fpr, tpr, thresholds = roc_curve(Y_Test,Y_Pred_RF)\n",
    "plot_roc_curve(fpr, tpr)"
   ]
  },
  {
   "cell_type": "code",
   "execution_count": 61,
   "metadata": {},
   "outputs": [
    {
     "name": "stdout",
     "output_type": "stream",
     "text": [
      "AUC Score for Random Forest Classifier: 0.96\n"
     ]
    }
   ],
   "source": [
    "auc = roc_auc_score(Y_Test,Y_Pred_RF)\n",
    "print('AUC Score for Random Forest Classifier: %.2f' % auc)"
   ]
  },
  {
   "cell_type": "markdown",
   "metadata": {},
   "source": [
    "### 2. Extra Tree Classifier "
   ]
  },
  {
   "cell_type": "code",
   "execution_count": 39,
   "metadata": {},
   "outputs": [
    {
     "name": "stderr",
     "output_type": "stream",
     "text": [
      "D:\\Python\\lib\\site-packages\\sklearn\\ensemble\\forest.py:246: FutureWarning: The default value of n_estimators will change from 10 in version 0.20 to 100 in 0.22.\n",
      "  \"10 in version 0.20 to 100 in 0.22.\", FutureWarning)\n"
     ]
    },
    {
     "name": "stdout",
     "output_type": "stream",
     "text": [
      "\n",
      "\n",
      "Classification Report for Extra Tree Classifier\n",
      "\n",
      "\n",
      "              precision    recall  f1-score   support\n",
      "\n",
      "         0.0       0.99      0.95      0.97     19634\n",
      "         1.0       0.19      0.56      0.28       366\n",
      "\n",
      "   micro avg       0.95      0.95      0.95     20000\n",
      "   macro avg       0.59      0.76      0.63     20000\n",
      "weighted avg       0.98      0.95      0.96     20000\n",
      "\n",
      "\n",
      "\n",
      "Confusion Matrix for Extra Tree Classifier\n"
     ]
    },
    {
     "data": {
      "text/html": [
       "<div>\n",
       "<style scoped>\n",
       "    .dataframe tbody tr th:only-of-type {\n",
       "        vertical-align: middle;\n",
       "    }\n",
       "\n",
       "    .dataframe tbody tr th {\n",
       "        vertical-align: top;\n",
       "    }\n",
       "\n",
       "    .dataframe thead th {\n",
       "        text-align: right;\n",
       "    }\n",
       "</style>\n",
       "<table border=\"1\" class=\"dataframe\">\n",
       "  <thead>\n",
       "    <tr style=\"text-align: right;\">\n",
       "      <th>Predicted</th>\n",
       "      <th>0.0</th>\n",
       "      <th>1.0</th>\n",
       "      <th>All</th>\n",
       "    </tr>\n",
       "    <tr>\n",
       "      <th>True</th>\n",
       "      <th></th>\n",
       "      <th></th>\n",
       "      <th></th>\n",
       "    </tr>\n",
       "  </thead>\n",
       "  <tbody>\n",
       "    <tr>\n",
       "      <th>0.0</th>\n",
       "      <td>18739</td>\n",
       "      <td>895</td>\n",
       "      <td>19634</td>\n",
       "    </tr>\n",
       "    <tr>\n",
       "      <th>1.0</th>\n",
       "      <td>162</td>\n",
       "      <td>204</td>\n",
       "      <td>366</td>\n",
       "    </tr>\n",
       "    <tr>\n",
       "      <th>All</th>\n",
       "      <td>18901</td>\n",
       "      <td>1099</td>\n",
       "      <td>20000</td>\n",
       "    </tr>\n",
       "  </tbody>\n",
       "</table>\n",
       "</div>"
      ],
      "text/plain": [
       "Predicted    0.0   1.0    All\n",
       "True                         \n",
       "0.0        18739   895  19634\n",
       "1.0          162   204    366\n",
       "All        18901  1099  20000"
      ]
     },
     "execution_count": 39,
     "metadata": {},
     "output_type": "execute_result"
    }
   ],
   "source": [
    "#Extra Tree Classfier\n",
    "from sklearn.ensemble import ExtraTreesClassifier\n",
    "Extra_Tree=ExtraTreesClassifier(max_depth=10)\n",
    "model2=Extra_Tree.fit(X_Resampled, Y_Resampled)\n",
    "Y_Pred_ET=Extra_Tree.predict(X_Test)\n",
    "print('\\n')\n",
    "print(\"Classification Report for Extra Tree Classifier\")\n",
    "print('\\n')\n",
    "print(classification_report(Y_Test,Y_Pred_ET))\n",
    "print('\\n')\n",
    "print(\"Confusion Matrix for Extra Tree Classifier\")\n",
    "pd.crosstab(Y_Test,Y_Pred_ET,rownames=['True'],colnames=['Predicted'],margins=True)"
   ]
  },
  {
   "cell_type": "code",
   "execution_count": 40,
   "metadata": {},
   "outputs": [
    {
     "data": {
      "image/png": "[encoded data removed]",
      "text/plain": [
       "<Figure size 432x288 with 1 Axes>"
      ]
     },
     "metadata": {
      "needs_background": "light"
     },
     "output_type": "display_data"
    }
   ],
   "source": [
    "fpr, tpr, thresholds = roc_curve(Y_Test,Y_Pred_ET)\n",
    "plot_roc_curve(fpr, tpr)"
   ]
  },
  {
   "cell_type": "code",
   "execution_count": 57,
   "metadata": {},
   "outputs": [
    {
     "name": "stdout",
     "output_type": "stream",
     "text": [
      "AUC Score for Extra Tree Classifier: 0.76\n"
     ]
    }
   ],
   "source": [
    "auc = roc_auc_score(Y_Test,Y_Pred_ET)\n",
    "print('AUC Score for Extra Tree Classifier: %.2f' % auc)"
   ]
  },
  {
   "cell_type": "markdown",
   "metadata": {},
   "source": [
    "### 3. Gradient Boosting Classifier "
   ]
  },
  {
   "cell_type": "code",
   "execution_count": 41,
   "metadata": {},
   "outputs": [
    {
     "name": "stdout",
     "output_type": "stream",
     "text": [
      "\n",
      "\n",
      "Classification Report for Gradient Boosting Classifier\n",
      "\n",
      "\n",
      "              precision    recall  f1-score   support\n",
      "\n",
      "         0.0       1.00      1.00      1.00     19634\n",
      "         1.0       0.99      0.92      0.95       366\n",
      "\n",
      "   micro avg       1.00      1.00      1.00     20000\n",
      "   macro avg       0.99      0.96      0.98     20000\n",
      "weighted avg       1.00      1.00      1.00     20000\n",
      "\n",
      "\n",
      "\n",
      "Confusion Matrix for Gradient Boosting Classifier\n"
     ]
    },
    {
     "data": {
      "text/html": [
       "<div>\n",
       "<style scoped>\n",
       "    .dataframe tbody tr th:only-of-type {\n",
       "        vertical-align: middle;\n",
       "    }\n",
       "\n",
       "    .dataframe tbody tr th {\n",
       "        vertical-align: top;\n",
       "    }\n",
       "\n",
       "    .dataframe thead th {\n",
       "        text-align: right;\n",
       "    }\n",
       "</style>\n",
       "<table border=\"1\" class=\"dataframe\">\n",
       "  <thead>\n",
       "    <tr style=\"text-align: right;\">\n",
       "      <th>Predicted</th>\n",
       "      <th>0.0</th>\n",
       "      <th>1.0</th>\n",
       "      <th>All</th>\n",
       "    </tr>\n",
       "    <tr>\n",
       "      <th>True</th>\n",
       "      <th></th>\n",
       "      <th></th>\n",
       "      <th></th>\n",
       "    </tr>\n",
       "  </thead>\n",
       "  <tbody>\n",
       "    <tr>\n",
       "      <th>0.0</th>\n",
       "      <td>19630</td>\n",
       "      <td>4</td>\n",
       "      <td>19634</td>\n",
       "    </tr>\n",
       "    <tr>\n",
       "      <th>1.0</th>\n",
       "      <td>28</td>\n",
       "      <td>338</td>\n",
       "      <td>366</td>\n",
       "    </tr>\n",
       "    <tr>\n",
       "      <th>All</th>\n",
       "      <td>19658</td>\n",
       "      <td>342</td>\n",
       "      <td>20000</td>\n",
       "    </tr>\n",
       "  </tbody>\n",
       "</table>\n",
       "</div>"
      ],
      "text/plain": [
       "Predicted    0.0  1.0    All\n",
       "True                        \n",
       "0.0        19630    4  19634\n",
       "1.0           28  338    366\n",
       "All        19658  342  20000"
      ]
     },
     "execution_count": 41,
     "metadata": {},
     "output_type": "execute_result"
    }
   ],
   "source": [
    "#Gradient Boosting Classifier\n",
    "from sklearn.ensemble import GradientBoostingClassifier\n",
    "Grad_Boost=GradientBoostingClassifier(max_depth=10)\n",
    "model3=Grad_Boost.fit(X_Resampled, Y_Resampled)\n",
    "Y_Pred_Grad=Grad_Boost.predict(X_Test)\n",
    "print('\\n')\n",
    "print(\"Classification Report for Gradient Boosting Classifier\")\n",
    "print('\\n')\n",
    "print(classification_report(Y_Test,Y_Pred_Grad))\n",
    "print('\\n')\n",
    "print(\"Confusion Matrix for Gradient Boosting Classifier\")\n",
    "pd.crosstab(Y_Test,Y_Pred_Grad,rownames=['True'],colnames=['Predicted'],margins=True)\n"
   ]
  },
  {
   "cell_type": "code",
   "execution_count": 42,
   "metadata": {},
   "outputs": [
    {
     "data": {
      "image/png": "[encoded data removed]",
      "text/plain": [
       "<Figure size 432x288 with 1 Axes>"
      ]
     },
     "metadata": {
      "needs_background": "light"
     },
     "output_type": "display_data"
    }
   ],
   "source": [
    "fpr, tpr, thresholds = roc_curve(Y_Test,Y_Pred_Grad)\n",
    "plot_roc_curve(fpr, tpr)"
   ]
  },
  {
   "cell_type": "code",
   "execution_count": 56,
   "metadata": {},
   "outputs": [
    {
     "name": "stdout",
     "output_type": "stream",
     "text": [
      "AUC Score for Gradient Boosting: 0.96\n"
     ]
    }
   ],
   "source": [
    "auc = roc_auc_score(Y_Test,Y_Pred_Grad)\n",
    "print('AUC Score for Gradient Boosting: %.2f' % auc)"
   ]
  },
  {
   "cell_type": "markdown",
   "metadata": {},
   "source": [
    "### 4. Logistic Regression"
   ]
  },
  {
   "cell_type": "code",
   "execution_count": 44,
   "metadata": {},
   "outputs": [
    {
     "name": "stderr",
     "output_type": "stream",
     "text": [
      "D:\\Python\\lib\\site-packages\\sklearn\\linear_model\\logistic.py:433: FutureWarning: Default solver will be changed to 'lbfgs' in 0.22. Specify a solver to silence this warning.\n",
      "  FutureWarning)\n"
     ]
    },
    {
     "name": "stdout",
     "output_type": "stream",
     "text": [
      "\n",
      "\n",
      "Classification Report for Logistic Regression Classifier\n",
      "\n",
      "\n",
      "              precision    recall  f1-score   support\n",
      "\n",
      "         0.0       1.00      0.98      0.99     19634\n",
      "         1.0       0.42      0.96      0.59       366\n",
      "\n",
      "   micro avg       0.98      0.98      0.98     20000\n",
      "   macro avg       0.71      0.97      0.79     20000\n",
      "weighted avg       0.99      0.98      0.98     20000\n",
      "\n",
      "\n",
      "\n",
      "Confusion Matrix for Logistic Regression Classifier\n"
     ]
    },
    {
     "data": {
      "text/html": [
       "<div>\n",
       "<style scoped>\n",
       "    .dataframe tbody tr th:only-of-type {\n",
       "        vertical-align: middle;\n",
       "    }\n",
       "\n",
       "    .dataframe tbody tr th {\n",
       "        vertical-align: top;\n",
       "    }\n",
       "\n",
       "    .dataframe thead th {\n",
       "        text-align: right;\n",
       "    }\n",
       "</style>\n",
       "<table border=\"1\" class=\"dataframe\">\n",
       "  <thead>\n",
       "    <tr style=\"text-align: right;\">\n",
       "      <th>Predicted</th>\n",
       "      <th>0.0</th>\n",
       "      <th>1.0</th>\n",
       "      <th>All</th>\n",
       "    </tr>\n",
       "    <tr>\n",
       "      <th>True</th>\n",
       "      <th></th>\n",
       "      <th></th>\n",
       "      <th></th>\n",
       "    </tr>\n",
       "  </thead>\n",
       "  <tbody>\n",
       "    <tr>\n",
       "      <th>0.0</th>\n",
       "      <td>19152</td>\n",
       "      <td>482</td>\n",
       "      <td>19634</td>\n",
       "    </tr>\n",
       "    <tr>\n",
       "      <th>1.0</th>\n",
       "      <td>15</td>\n",
       "      <td>351</td>\n",
       "      <td>366</td>\n",
       "    </tr>\n",
       "    <tr>\n",
       "      <th>All</th>\n",
       "      <td>19167</td>\n",
       "      <td>833</td>\n",
       "      <td>20000</td>\n",
       "    </tr>\n",
       "  </tbody>\n",
       "</table>\n",
       "</div>"
      ],
      "text/plain": [
       "Predicted    0.0  1.0    All\n",
       "True                        \n",
       "0.0        19152  482  19634\n",
       "1.0           15  351    366\n",
       "All        19167  833  20000"
      ]
     },
     "execution_count": 44,
     "metadata": {},
     "output_type": "execute_result"
    }
   ],
   "source": [
    "#Logistic Regression\n",
    "from sklearn.linear_model import LogisticRegression\n",
    "Logistic_Regression=LogisticRegression(random_state=42)\n",
    "model4=Logistic_Regression.fit(X_Resampled,Y_Resampled)\n",
    "Y_Pred_Log=Logistic_Regression.predict(X_Test)\n",
    "\n",
    "print('\\n')\n",
    "print(\"Classification Report for Logistic Regression Classifier\")\n",
    "print('\\n')\n",
    "print(classification_report(Y_Test,Y_Pred_Log))\n",
    "print('\\n')\n",
    "print(\"Confusion Matrix for Logistic Regression Classifier\")\n",
    "pd.crosstab(Y_Test,Y_Pred_Log,rownames=['True'],colnames=['Predicted'],margins=True)\n",
    "\n"
   ]
  },
  {
   "cell_type": "code",
   "execution_count": 45,
   "metadata": {},
   "outputs": [
    {
     "data": {
      "image/png": "[encoded data removed]",
      "text/plain": [
       "<Figure size 432x288 with 1 Axes>"
      ]
     },
     "metadata": {
      "needs_background": "light"
     },
     "output_type": "display_data"
    }
   ],
   "source": [
    "fpr, tpr, thresholds = roc_curve(Y_Test,Y_Pred_Log)\n",
    "plot_roc_curve(fpr, tpr)"
   ]
  },
  {
   "cell_type": "code",
   "execution_count": 55,
   "metadata": {},
   "outputs": [
    {
     "name": "stdout",
     "output_type": "stream",
     "text": [
      "AUC Score for Logistic Regression: 0.97\n"
     ]
    }
   ],
   "source": [
    "auc = roc_auc_score(Y_Test,Y_Pred_Log)\n",
    "print('AUC Score for Logistic Regression: %.2f' % auc)"
   ]
  },
  {
   "cell_type": "markdown",
   "metadata": {},
   "source": [
    "### 5. Decision Tree Classifier "
   ]
  },
  {
   "cell_type": "code",
   "execution_count": 46,
   "metadata": {},
   "outputs": [
    {
     "name": "stdout",
     "output_type": "stream",
     "text": [
      "\n",
      "\n",
      "Classification Report for Decision Tree Classifier\n",
      "\n",
      "\n",
      "              precision    recall  f1-score   support\n",
      "\n",
      "         0.0       1.00      1.00      1.00     19634\n",
      "         1.0       0.90      0.94      0.92       366\n",
      "\n",
      "   micro avg       1.00      1.00      1.00     20000\n",
      "   macro avg       0.95      0.97      0.96     20000\n",
      "weighted avg       1.00      1.00      1.00     20000\n",
      "\n",
      "\n",
      "\n",
      "Confusion Matrix for Decision Tree Classifier\n"
     ]
    },
    {
     "data": {
      "text/html": [
       "<div>\n",
       "<style scoped>\n",
       "    .dataframe tbody tr th:only-of-type {\n",
       "        vertical-align: middle;\n",
       "    }\n",
       "\n",
       "    .dataframe tbody tr th {\n",
       "        vertical-align: top;\n",
       "    }\n",
       "\n",
       "    .dataframe thead th {\n",
       "        text-align: right;\n",
       "    }\n",
       "</style>\n",
       "<table border=\"1\" class=\"dataframe\">\n",
       "  <thead>\n",
       "    <tr style=\"text-align: right;\">\n",
       "      <th>Predicted</th>\n",
       "      <th>0.0</th>\n",
       "      <th>1.0</th>\n",
       "      <th>All</th>\n",
       "    </tr>\n",
       "    <tr>\n",
       "      <th>True</th>\n",
       "      <th></th>\n",
       "      <th></th>\n",
       "      <th></th>\n",
       "    </tr>\n",
       "  </thead>\n",
       "  <tbody>\n",
       "    <tr>\n",
       "      <th>0.0</th>\n",
       "      <td>19597</td>\n",
       "      <td>37</td>\n",
       "      <td>19634</td>\n",
       "    </tr>\n",
       "    <tr>\n",
       "      <th>1.0</th>\n",
       "      <td>22</td>\n",
       "      <td>344</td>\n",
       "      <td>366</td>\n",
       "    </tr>\n",
       "    <tr>\n",
       "      <th>All</th>\n",
       "      <td>19619</td>\n",
       "      <td>381</td>\n",
       "      <td>20000</td>\n",
       "    </tr>\n",
       "  </tbody>\n",
       "</table>\n",
       "</div>"
      ],
      "text/plain": [
       "Predicted    0.0  1.0    All\n",
       "True                        \n",
       "0.0        19597   37  19634\n",
       "1.0           22  344    366\n",
       "All        19619  381  20000"
      ]
     },
     "execution_count": 46,
     "metadata": {},
     "output_type": "execute_result"
    }
   ],
   "source": [
    "#Decision Tree\n",
    "from sklearn.tree import DecisionTreeClassifier\n",
    "Decision_Tree=DecisionTreeClassifier(random_state=42)\n",
    "model5=Decision_Tree.fit(X_Resampled,Y_Resampled)\n",
    "Y_Pred_DT=Decision_Tree.predict(X_Test)\n",
    "print('\\n')\n",
    "print(\"Classification Report for Decision Tree Classifier\")\n",
    "print('\\n')\n",
    "print(classification_report(Y_Test,Y_Pred_DT))\n",
    "print('\\n')\n",
    "print(\"Confusion Matrix for Decision Tree Classifier\")\n",
    "pd.crosstab(Y_Test,Y_Pred_DT,rownames=['True'],colnames=['Predicted'],margins=True)\n",
    "\n"
   ]
  },
  {
   "cell_type": "code",
   "execution_count": 47,
   "metadata": {},
   "outputs": [
    {
     "data": {
      "image/png": "[encoded data removed]",
      "text/plain": [
       "<Figure size 432x288 with 1 Axes>"
      ]
     },
     "metadata": {
      "needs_background": "light"
     },
     "output_type": "display_data"
    }
   ],
   "source": [
    "fpr, tpr, thresholds = roc_curve(Y_Test,Y_Pred_DT)\n",
    "plot_roc_curve(fpr, tpr)\n",
    "auc = roc_auc_score(Y_Test,Y_Pred_DT)\n",
    "print('AUC: %.2f' % auc)"
   ]
  },
  {
   "cell_type": "code",
   "execution_count": 52,
   "metadata": {},
   "outputs": [
    {
     "name": "stdout",
     "output_type": "stream",
     "text": [
      "AUC Score for Decision Tree: 0.97\n"
     ]
    }
   ],
   "source": [
    "auc = roc_auc_score(Y_Test,Y_Pred_DT)\n",
    "print('AUC Score for Decision Tree: %.2f' % auc)"
   ]
  },
  {
   "cell_type": "markdown",
   "metadata": {},
   "source": [
    "### 6. Voting Classifier "
   ]
  },
  {
   "cell_type": "markdown",
   "metadata": {},
   "source": [
    "Voting classifier consider output of Random Forest, Gradient Boosting and Decision Tree and then choose the class majority Voted for. Hence it is slightly more accurate as compared to others."
   ]
  },
  {
   "cell_type": "code",
   "execution_count": 48,
   "metadata": {},
   "outputs": [],
   "source": [
    "#Voting Classifier\n",
    "from sklearn.ensemble import VotingClassifier\n",
    "Voting_Classifier=VotingClassifier(estimators=[('Random_Forest',Random_Forest),('Grad_Boost',Grad_Boost),('Decision_Tree',Decision_Tree)],\n",
    "                                  voting='hard')\n",
    "\n",
    "for clf in (Random_Forest,Grad_Boost,Decision_Tree,Voting_Classifier):\n",
    "    clf.fit(X_Resampled,Y_Resampled)\n",
    "    Voting_Prediction=clf.predict(X_Test)"
   ]
  },
  {
   "cell_type": "code",
   "execution_count": 49,
   "metadata": {},
   "outputs": [
    {
     "name": "stdout",
     "output_type": "stream",
     "text": [
      "\n",
      "\n",
      "Classification Report for Voting Classifier\n",
      "\n",
      "\n",
      "              precision    recall  f1-score   support\n",
      "\n",
      "         0.0       1.00      1.00      1.00     19634\n",
      "         1.0       0.97      0.93      0.95       366\n",
      "\n",
      "   micro avg       1.00      1.00      1.00     20000\n",
      "   macro avg       0.99      0.96      0.98     20000\n",
      "weighted avg       1.00      1.00      1.00     20000\n",
      "\n",
      "\n",
      "\n",
      "Confusion Matrix for Voting Classifier\n"
     ]
    },
    {
     "data": {
      "text/html": [
       "<div>\n",
       "<style scoped>\n",
       "    .dataframe tbody tr th:only-of-type {\n",
       "        vertical-align: middle;\n",
       "    }\n",
       "\n",
       "    .dataframe tbody tr th {\n",
       "        vertical-align: top;\n",
       "    }\n",
       "\n",
       "    .dataframe thead th {\n",
       "        text-align: right;\n",
       "    }\n",
       "</style>\n",
       "<table border=\"1\" class=\"dataframe\">\n",
       "  <thead>\n",
       "    <tr style=\"text-align: right;\">\n",
       "      <th>Predicted</th>\n",
       "      <th>0.0</th>\n",
       "      <th>1.0</th>\n",
       "      <th>All</th>\n",
       "    </tr>\n",
       "    <tr>\n",
       "      <th>True</th>\n",
       "      <th></th>\n",
       "      <th></th>\n",
       "      <th></th>\n",
       "    </tr>\n",
       "  </thead>\n",
       "  <tbody>\n",
       "    <tr>\n",
       "      <th>0.0</th>\n",
       "      <td>19625</td>\n",
       "      <td>9</td>\n",
       "      <td>19634</td>\n",
       "    </tr>\n",
       "    <tr>\n",
       "      <th>1.0</th>\n",
       "      <td>26</td>\n",
       "      <td>340</td>\n",
       "      <td>366</td>\n",
       "    </tr>\n",
       "    <tr>\n",
       "      <th>All</th>\n",
       "      <td>19651</td>\n",
       "      <td>349</td>\n",
       "      <td>20000</td>\n",
       "    </tr>\n",
       "  </tbody>\n",
       "</table>\n",
       "</div>"
      ],
      "text/plain": [
       "Predicted    0.0  1.0    All\n",
       "True                        \n",
       "0.0        19625    9  19634\n",
       "1.0           26  340    366\n",
       "All        19651  349  20000"
      ]
     },
     "execution_count": 49,
     "metadata": {},
     "output_type": "execute_result"
    }
   ],
   "source": [
    "print('\\n')\n",
    "print(\"Classification Report for Voting Classifier\")\n",
    "print('\\n')\n",
    "print(classification_report(Y_Test,Voting_Prediction))\n",
    "print('\\n')\n",
    "print(\"Confusion Matrix for Voting Classifier\")\n",
    "pd.crosstab(Y_Test,Voting_Prediction,rownames=['True'],colnames=['Predicted'],margins=True)"
   ]
  },
  {
   "cell_type": "markdown",
   "metadata": {},
   "source": [
    "I have identified 342 correct hired and 19622 not hired candidate. While 12 non hired candidates are misclassified as hired and 24 hired candidate are misclassified as non hired. Overall by above model I am able to predict 93% correct hired candidates with 97% precision. "
   ]
  },
  {
   "cell_type": "code",
   "execution_count": 50,
   "metadata": {},
   "outputs": [
    {
     "data": {
      "image/png": "[encoded data removed]",
      "text/plain": [
       "<Figure size 432x288 with 1 Axes>"
      ]
     },
     "metadata": {
      "needs_background": "light"
     },
     "output_type": "display_data"
    }
   ],
   "source": [
    "fpr, tpr, thresholds = roc_curve(Y_Test,Voting_Prediction)\n",
    "plot_roc_curve(fpr, tpr)"
   ]
  },
  {
   "cell_type": "code",
   "execution_count": 53,
   "metadata": {},
   "outputs": [
    {
     "name": "stdout",
     "output_type": "stream",
     "text": [
      "AUC Score for Voting Classifier: 0.96\n"
     ]
    }
   ],
   "source": [
    "auc = roc_auc_score(Y_Test,Voting_Prediction)\n",
    "print('AUC Score for Voting Classifier: %.2f' % auc)"
   ]
  },
  {
   "cell_type": "code",
   "execution_count": null,
   "metadata": {},
   "outputs": [],
   "source": [
    "#Code by Sudesh V Khillare"
   ]
  }
 ],
 "metadata": {
  "kernelspec": {
   "display_name": "Python 3",
   "language": "python",
   "name": "python3"
  },
  "language_info": {
   "codemirror_mode": {
    "name": "ipython",
    "version": 3
   },
   "file_extension": ".py",
   "mimetype": "text/x-python",
   "name": "python",
   "nbconvert_exporter": "python",
   "pygments_lexer": "ipython3",
   "version": "3.7.3"
  }
 },
 "nbformat": 4,
 "nbformat_minor": 2
}
